{
 "cells": [
  {
   "cell_type": "markdown",
   "metadata": {
    "id": "fdPhiZZhVPUq"
   },
   "source": [
    "필요한 라이브러리 install"
   ]
  },
  {
   "cell_type": "code",
   "execution_count": 1,
   "metadata": {
    "colab": {
     "base_uri": "https://localhost:8080/"
    },
    "executionInfo": {
     "elapsed": 21147,
     "status": "ok",
     "timestamp": 1726213485023,
     "user": {
      "displayName": "박준희",
      "userId": "01167826914931997240"
     },
     "user_tz": -540
    },
    "id": "9n9a8is8TXpl",
    "outputId": "8521ccf7-2431-467d-9f1d-0d078fc2a655"
   },
   "outputs": [
    {
     "name": "stdout",
     "output_type": "stream",
     "text": [
      "Collecting bs4\n",
      "  Downloading bs4-0.0.2-py2.py3-none-any.whl.metadata (411 bytes)\n",
      "Requirement already satisfied: beautifulsoup4 in /usr/local/lib/python3.10/dist-packages (from bs4) (4.12.3)\n",
      "Requirement already satisfied: soupsieve>1.2 in /usr/local/lib/python3.10/dist-packages (from beautifulsoup4->bs4) (2.6)\n",
      "Downloading bs4-0.0.2-py2.py3-none-any.whl (1.2 kB)\n",
      "Installing collected packages: bs4\n",
      "Successfully installed bs4-0.0.2\n",
      "Collecting selenium\n",
      "  Downloading selenium-4.24.0-py3-none-any.whl.metadata (7.1 kB)\n",
      "Requirement already satisfied: urllib3<3,>=1.26 in /usr/local/lib/python3.10/dist-packages (from urllib3[socks]<3,>=1.26->selenium) (2.0.7)\n",
      "Collecting trio~=0.17 (from selenium)\n",
      "  Downloading trio-0.26.2-py3-none-any.whl.metadata (8.6 kB)\n",
      "Collecting trio-websocket~=0.9 (from selenium)\n",
      "  Downloading trio_websocket-0.11.1-py3-none-any.whl.metadata (4.7 kB)\n",
      "Requirement already satisfied: certifi>=2021.10.8 in /usr/local/lib/python3.10/dist-packages (from selenium) (2024.8.30)\n",
      "Requirement already satisfied: typing_extensions~=4.9 in /usr/local/lib/python3.10/dist-packages (from selenium) (4.12.2)\n",
      "Requirement already satisfied: websocket-client~=1.8 in /usr/local/lib/python3.10/dist-packages (from selenium) (1.8.0)\n",
      "Requirement already satisfied: attrs>=23.2.0 in /usr/local/lib/python3.10/dist-packages (from trio~=0.17->selenium) (24.2.0)\n",
      "Requirement already satisfied: sortedcontainers in /usr/local/lib/python3.10/dist-packages (from trio~=0.17->selenium) (2.4.0)\n",
      "Requirement already satisfied: idna in /usr/local/lib/python3.10/dist-packages (from trio~=0.17->selenium) (3.8)\n",
      "Collecting outcome (from trio~=0.17->selenium)\n",
      "  Downloading outcome-1.3.0.post0-py2.py3-none-any.whl.metadata (2.6 kB)\n",
      "Requirement already satisfied: sniffio>=1.3.0 in /usr/local/lib/python3.10/dist-packages (from trio~=0.17->selenium) (1.3.1)\n",
      "Requirement already satisfied: exceptiongroup in /usr/local/lib/python3.10/dist-packages (from trio~=0.17->selenium) (1.2.2)\n",
      "Collecting wsproto>=0.14 (from trio-websocket~=0.9->selenium)\n",
      "  Downloading wsproto-1.2.0-py3-none-any.whl.metadata (5.6 kB)\n",
      "Requirement already satisfied: pysocks!=1.5.7,<2.0,>=1.5.6 in /usr/local/lib/python3.10/dist-packages (from urllib3[socks]<3,>=1.26->selenium) (1.7.1)\n",
      "Collecting h11<1,>=0.9.0 (from wsproto>=0.14->trio-websocket~=0.9->selenium)\n",
      "  Downloading h11-0.14.0-py3-none-any.whl.metadata (8.2 kB)\n",
      "Downloading selenium-4.24.0-py3-none-any.whl (9.6 MB)\n",
      "\u001b[2K   \u001b[90m━━━━━━━━━━━━━━━━━━━━━━━━━━━━━━━━━━━━━━━━\u001b[0m \u001b[32m9.6/9.6 MB\u001b[0m \u001b[31m23.1 MB/s\u001b[0m eta \u001b[36m0:00:00\u001b[0m\n",
      "\u001b[?25hDownloading trio-0.26.2-py3-none-any.whl (475 kB)\n",
      "\u001b[2K   \u001b[90m━━━━━━━━━━━━━━━━━━━━━━━━━━━━━━━━━━━━━━━━\u001b[0m \u001b[32m476.0/476.0 kB\u001b[0m \u001b[31m20.6 MB/s\u001b[0m eta \u001b[36m0:00:00\u001b[0m\n",
      "\u001b[?25hDownloading trio_websocket-0.11.1-py3-none-any.whl (17 kB)\n",
      "Downloading wsproto-1.2.0-py3-none-any.whl (24 kB)\n",
      "Downloading outcome-1.3.0.post0-py2.py3-none-any.whl (10 kB)\n",
      "Downloading h11-0.14.0-py3-none-any.whl (58 kB)\n",
      "\u001b[2K   \u001b[90m━━━━━━━━━━━━━━━━━━━━━━━━━━━━━━━━━━━━━━━━\u001b[0m \u001b[32m58.3/58.3 kB\u001b[0m \u001b[31m2.9 MB/s\u001b[0m eta \u001b[36m0:00:00\u001b[0m\n",
      "\u001b[?25hInstalling collected packages: outcome, h11, wsproto, trio, trio-websocket, selenium\n",
      "Successfully installed h11-0.14.0 outcome-1.3.0.post0 selenium-4.24.0 trio-0.26.2 trio-websocket-0.11.1 wsproto-1.2.0\n"
     ]
    }
   ],
   "source": [
    "!pip install bs4\n",
    "!pip install selenium"
   ]
  },
  {
   "cell_type": "markdown",
   "metadata": {
    "id": "nJJs5-i08CZu"
   },
   "source": [
    "### 네이버 지식인"
   ]
  },
  {
   "cell_type": "markdown",
   "metadata": {
    "id": "qbfkUzBhpELl"
   },
   "source": [
    "일단 하나만 시도해보자"
   ]
  },
  {
   "cell_type": "code",
   "execution_count": 43,
   "metadata": {
    "colab": {
     "base_uri": "https://localhost:8080/"
    },
    "executionInfo": {
     "elapsed": 1056,
     "status": "ok",
     "timestamp": 1726224836289,
     "user": {
      "displayName": "박준희",
      "userId": "01167826914931997240"
     },
     "user_tz": -540
    },
    "id": "D7QxY7mFV6e0",
    "outputId": "ff73f252-da6b-4edb-9d43-efdca1c03d2e"
   },
   "outputs": [
    {
     "name": "stdout",
     "output_type": "stream",
     "text": [
      "우리은행 뱅킹어플 두개의 폰으로 하나의 계좌 관리가 가능한가요?\n"
     ]
    }
   ],
   "source": [
    "import requests\n",
    "from bs4 import BeautifulSoup\n",
    "\n",
    "url = \"https://kin.naver.com/qna/detail.naver?d1id=4&dirId=40107&docId=475306926\"\n",
    "\n",
    "r = requests.get(url)\n",
    "\n",
    "soup = BeautifulSoup(r.text, \"html.parser\")\n",
    "\n",
    "# .questionDetail 요소 선택\n",
    "items = soup.select(\".questionDetail\")\n",
    "\n",
    "# 리스트로 반환된 각 요소에서 텍스트 추출\n",
    "for item in items:\n",
    "    print(item.text.strip())  # 텍스트 추출 및 공백 제거"
   ]
  },
  {
   "cell_type": "markdown",
   "metadata": {
    "id": "htn87k4BpF5b"
   },
   "source": [
    "오 됐다!"
   ]
  },
  {
   "cell_type": "markdown",
   "metadata": {
    "id": "T9qcyd6B2BP6"
   },
   "source": [
    "![image.png](data:image/png;base64,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)"
   ]
  },
  {
   "cell_type": "code",
   "execution_count": 18,
   "metadata": {
    "colab": {
     "base_uri": "https://localhost:8080/"
    },
    "executionInfo": {
     "elapsed": 5593,
     "status": "ok",
     "timestamp": 1726222184981,
     "user": {
      "displayName": "박준희",
      "userId": "01167826914931997240"
     },
     "user_tz": -540
    },
    "id": "tqsPqfwspHa7",
    "outputId": "3e1eb2fb-352e-48a0-9918-9079dc6d9cc7"
   },
   "outputs": [
    {
     "name": "stdout",
     "output_type": "stream",
     "text": [
      "첫 번째 url: <a class=\"_nclicks:kls_new.list,r:1,i:4010501_475309440\" href=\"/qna/detail.naver?d1id=4&amp;dirId=4010501&amp;docId=475309440\" rel=\"KIN\" target=\"_blank\">디딤돌대출 신청시 현거주지의 계약명의자가 중요한가요?</a>\n",
      "질문 1:\n",
      "현재 주택은 어머님 명의로 전세계약을 했습니다.본인을 포함하여 형제 부모님 4명이 거주중이고제가 디딤돌 대출을 받으려 합니다.(만 30세 이상, 미혼, 아버지(만 60세이상) 부양가족)그런데 어머님이 과거 주택 보유 이력이 있습니다.그래서 최근 전입신고를 했습니다.따라서 현재 세대주는 본인이고세대원은 아버지는 만 60세 이상, 형제 한명인데모두 주택보유이력이 없습니다.현 거주지의 계약자가 어머님인데어머님은 등본에 같이 없는 상태인데이런 경우 디딤돌 대출시에 문제가 될까요?현거주지의 계약명의자가 누구인지 확인을 하나요?자산은 배우자가 없는 경우 신청자 본인의 것만 한다고 하여자산으로는 문제가 없을거 같습니다.\n",
      "--------------------------------------------------------------------------------\n",
      "질문 2:\n",
      "제가 수요일부터 급성요통으로 한의원에서 침맞고 물리치료 받고가루약(허리통증이 심해서) 먹고있는데 한의원 실비 안되는걸루 알고 있다가 혹시나 알아보니 급여 부분은 보상하다고 하는데실비청구 가능할까요?\n",
      "--------------------------------------------------------------------------------\n",
      "질문 3:\n",
      "안녕하세요.. 주식 초보라 영웅문 HTS 부터 시작하고 있습니다. 주주 구분 현황에 개인/법인 3명이 약 천만주 20% 인데요..이게 아래 주주 상세 최대주주 보유수량과 같은건가요?\n",
      "--------------------------------------------------------------------------------\n",
      "질문 4:\n",
      "안녕하세요면허 취소가 되어서 운전을 할 수 없게 되었습니다차가 명의는 제 명의로 되어있습니다. 면허 취소기간동안 여자친구 한테 차를 줄려고 합니다여자친구가 보험 가입만 하면 되는것인가요?아니면 명의변경까지 해야하나요?\n",
      "--------------------------------------------------------------------------------\n",
      "질문 5:\n",
      "저는 기업은행 체크카드 쓰긴하는데 유효기간이 담달까지라 아직 재 발급안했는데 이런문자가 오네요? 보이스피싱이에요? 기업은행이라 써있는데..\n",
      "--------------------------------------------------------------------------------\n",
      "질문 6:\n",
      "최수연 ceo와 나머지 임원진들 주식보유량을 알고싶습니다\n",
      "--------------------------------------------------------------------------------\n",
      "질문 7:\n",
      "혹시 신용회복워원회 기간 납부하고 기간 끝남 일시상환으로 대출갚아야하는건가요?\n",
      "--------------------------------------------------------------------------------\n",
      "질문 8:\n",
      "저는 50대 여성이고 직장은 5년째 다니는 중입니다연봉은 작년 기준 4577만원이였고 보통 비슷합니다신용점수는 kcb 690 nice 830기대출은농협 마이너스통장 3000현대캐피탈 차량 할부금 1600카드론 1100삼성화재 400어제 nh저축은행 사잇돌2 600오늘 한국투자저축은행 살만한 800이렇게 받았는데 좀 더 필요해서 한도 나오는 곳 신청했는데 심사 중에 다 부결이 나는데 키움저축은행에서 햇살론 한도 나와서 신청했는데 이것도 부결될 확률이 크겠죠..?\n",
      "--------------------------------------------------------------------------------\n",
      "질문 9:\n",
      "최근에 콘서트 티켓 사기 당했는데토스로 입금 했는데 안심보상제가 있더라고요신청하려고 하는데 아이돌 콘서트 티켓은 보상 받을수 없는건가요?ㅠㅠ\n",
      "--------------------------------------------------------------------------------\n",
      "질문 10:\n",
      "1000만원 정도 청약통장 담보대출 받았는데 돈이 빠지지도 않고 어떻게 활용하는 건가요?\n",
      "--------------------------------------------------------------------------------\n"
     ]
    }
   ],
   "source": [
    "import requests\n",
    "from bs4 import BeautifulSoup\n",
    "\n",
    "# 질문 목록 페이지 URL\n",
    "list_url = \"https://kin.naver.com/qna/list.naver?dirId=401\"\n",
    "\n",
    "# 질문 목록 페이지에서 각 질문의 URL들 추출\n",
    "r = requests.get(list_url)\n",
    "soup = BeautifulSoup(r.text, \"html.parser\")\n",
    "\n",
    "# 각 url에서 <a 부분이 각 질문에 따라 달라지는 부분 -> 그 부분을 추출\n",
    "question_links = soup.select(\"td.title > a\")\n",
    "print(\"첫 번째 url:\", question_links[0])\n",
    "\n",
    "# 기본 url + 위에서 뽑아낸 부분에서 'href'부분 합쳐서 질문별 url 생성\n",
    "base_url = \"https://kin.naver.com\"\n",
    "question_urls = [base_url + link['href'] for link in question_links]\n",
    "\n",
    "# 2. 각 질문 URL에서 질문 내용을 추출\n",
    "for i, question_url in enumerate(question_urls[:10],1):\n",
    "    r = requests.get(question_url)\n",
    "    soup = BeautifulSoup(r.text, \"html.parser\")\n",
    "\n",
    "    # 질문 내용이 있는 부분 선택\n",
    "    question_content = soup.select_one(\".questionDetail\").text.strip()\n",
    "\n",
    "    print(f\"질문 {i}:\")\n",
    "    print(question_content)\n",
    "    print(\"-\" * 80)"
   ]
  },
  {
   "cell_type": "code",
   "execution_count": 37,
   "metadata": {
    "executionInfo": {
     "elapsed": 6426,
     "status": "ok",
     "timestamp": 1726223054265,
     "user": {
      "displayName": "박준희",
      "userId": "01167826914931997240"
     },
     "user_tz": -540
    },
    "id": "G7S5Uwde3Ep5"
   },
   "outputs": [],
   "source": [
    "questions = []\n",
    "\n",
    "for i, question_url in enumerate(question_urls[:10],1):   ######### 일단 10개로 진행해보자\n",
    "    r = requests.get(question_url)\n",
    "    soup = BeautifulSoup(r.text, \"html.parser\")\n",
    "\n",
    "    question_content = soup.select_one(\".questionDetail\").text.strip()\n",
    "    questions.append(question_content)"
   ]
  },
  {
   "cell_type": "code",
   "execution_count": 38,
   "metadata": {
    "colab": {
     "base_uri": "https://localhost:8080/"
    },
    "executionInfo": {
     "elapsed": 361,
     "status": "ok",
     "timestamp": 1726223059885,
     "user": {
      "displayName": "박준희",
      "userId": "01167826914931997240"
     },
     "user_tz": -540
    },
    "id": "LevqJxs73R9P",
    "outputId": "c3f5a510-e7e0-4105-b2fe-6e4d5bc18c18"
   },
   "outputs": [
    {
     "data": {
      "text/plain": [
       "['현재 주택은 어머님 명의로 전세계약을 했습니다.본인을 포함하여 형제 부모님 4명이 거주중이고제가 디딤돌 대출을 받으려 합니다.(만 30세 이상, 미혼, 아버지(만 60세이상) 부양가족)그런데 어머님이 과거 주택 보유 이력이 있습니다.그래서 최근 전입신고를 했습니다.따라서 현재 세대주는 본인이고세대원은 아버지는 만 60세 이상, 형제 한명인데모두 주택보유이력이 없습니다.현 거주지의 계약자가 어머님인데어머님은 등본에 같이 없는 상태인데이런 경우 디딤돌 대출시에 문제가 될까요?현거주지의 계약명의자가 누구인지 확인을 하나요?자산은 배우자가 없는 경우 신청자 본인의 것만 한다고 하여자산으로는 문제가 없을거 같습니다.',\n",
       " '제가 수요일부터 급성요통으로 한의원에서 침맞고 물리치료 받고가루약(허리통증이 심해서) 먹고있는데 한의원 실비 안되는걸루 알고 있다가 혹시나 알아보니 급여 부분은 보상하다고 하는데실비청구 가능할까요?',\n",
       " '안녕하세요.. 주식 초보라 영웅문 HTS 부터 시작하고 있습니다. 주주 구분 현황에 개인/법인 3명이 약 천만주 20% 인데요..이게 아래 주주 상세 최대주주 보유수량과 같은건가요?',\n",
       " '안녕하세요면허 취소가 되어서 운전을 할 수 없게 되었습니다차가 명의는 제 명의로 되어있습니다. 면허 취소기간동안 여자친구 한테 차를 줄려고 합니다여자친구가 보험 가입만 하면 되는것인가요?아니면 명의변경까지 해야하나요?',\n",
       " '저는 기업은행 체크카드 쓰긴하는데 유효기간이 담달까지라 아직 재 발급안했는데 이런문자가 오네요? 보이스피싱이에요? 기업은행이라 써있는데..',\n",
       " '최수연 ceo와 나머지 임원진들 주식보유량을 알고싶습니다',\n",
       " '혹시 신용회복워원회 기간 납부하고 기간 끝남 일시상환으로 대출갚아야하는건가요?',\n",
       " '저는 50대 여성이고 직장은 5년째 다니는 중입니다연봉은 작년 기준 4577만원이였고 보통 비슷합니다신용점수는 kcb 690 nice 830기대출은농협 마이너스통장 3000현대캐피탈 차량 할부금 1600카드론 1100삼성화재 400어제 nh저축은행 사잇돌2 600오늘 한국투자저축은행 살만한 800이렇게 받았는데 좀 더 필요해서 한도 나오는 곳 신청했는데 심사 중에 다 부결이 나는데 키움저축은행에서 햇살론 한도 나와서 신청했는데 이것도 부결될 확률이 크겠죠..?',\n",
       " '최근에 콘서트 티켓 사기 당했는데토스로 입금 했는데 안심보상제가 있더라고요신청하려고 하는데 아이돌 콘서트 티켓은 보상 받을수 없는건가요?ㅠㅠ',\n",
       " '1000만원 정도 청약통장 담보대출 받았는데 돈이 빠지지도 않고 어떻게 활용하는 건가요?']"
      ]
     },
     "execution_count": 38,
     "metadata": {},
     "output_type": "execute_result"
    }
   ],
   "source": [
    "questions"
   ]
  },
  {
   "cell_type": "markdown",
   "metadata": {
    "id": "dMzyM4Oj3lYc"
   },
   "source": [
    "이제 해야 하는 일이.. 이걸 각 글자? 단위로 나눠서 쪼개놔야해\n",
    "\n",
    "      ['한 군 데 서 필 름 을 너 무 낭 비 한 작 품 입 니 다 .', '하 지 만 이 영 화 에 는 감 히 별 5 개 를 주 고 싶 다']\n",
    "\n",
    "이것처럼..."
   ]
  },
  {
   "cell_type": "code",
   "execution_count": 41,
   "metadata": {
    "colab": {
     "base_uri": "https://localhost:8080/"
    },
    "executionInfo": {
     "elapsed": 341,
     "status": "ok",
     "timestamp": 1726223099412,
     "user": {
      "displayName": "박준희",
      "userId": "01167826914931997240"
     },
     "user_tz": -540
    },
    "id": "-6Flugzz5k6Q",
    "outputId": "12ebeb1e-9aa3-4d15-e757-ee0cc04d2fae"
   },
   "outputs": [
    {
     "data": {
      "text/plain": [
       "['제 가 수 요 일 부 터 급 성 요 통 으 로 한 의 원 에 서 침 맞 고 물 리 치 료 받 고 가 루 약 ( 허 리 통 증 이 심 해 서 ) 먹 고 있 는 데 한 의 원 실 비 안 되 는 걸 루 알 고 있 다 가 혹 시 나 알 아 보 니 급 여 부 분 은 보 상 하 다 고 하 는 데 실 비 청 구 가 능 할 까 요 ?',\n",
       " '안 녕 하 세 요 . . 주 식 초 보 라 영 웅 문 H T S 부 터 시 작 하 고 있 습 니 다 . 주 주 구 분 현 황 에 개 인 / 법 인 3 명 이 약 천 만 주 2 0 % 인 데 요 . . 이 게 아 래 주 주 상 세 최 대 주 주 보 유 수 량 과 같 은 건 가 요 ?']"
      ]
     },
     "execution_count": 41,
     "metadata": {},
     "output_type": "execute_result"
    }
   ],
   "source": [
    "texts = []\n",
    "labels = []\n",
    "for question in questions:\n",
    "  wo_blank = question.replace(' ','') # 공백제거\n",
    "  num = [0] * len(wo_blank)\n",
    "  result = ' '.join(list(wo_blank))\n",
    "  labels.append(num)\n",
    "  texts.append(result)\n",
    "\n",
    "texts[1:3]"
   ]
  },
  {
   "cell_type": "code",
   "execution_count": 33,
   "metadata": {
    "colab": {
     "base_uri": "https://localhost:8080/"
    },
    "executionInfo": {
     "elapsed": 340,
     "status": "ok",
     "timestamp": 1726222840058,
     "user": {
      "displayName": "박준희",
      "userId": "01167826914931997240"
     },
     "user_tz": -540
    },
    "id": "_hDAR8ai3t9X",
    "outputId": "cdc384f0-1642-4b02-9274-e1e77ef9d24b"
   },
   "outputs": [
    {
     "name": "stdout",
     "output_type": "stream",
     "text": [
      "전 세 계 약 을 했 습 니 다 . 본 인 을 포 함 하 여 형 제 부 모 님\n",
      "[0, 0, 0, 0, 0, 0, 0, 0, 0, 0, 0, 0, 0, 0, 0, 0, 0, 0, 0, 0, 0, 0]\n"
     ]
    }
   ],
   "source": [
    "text = '전세계약을 했습니다.본인을 포함하여 형제 부모님'\n",
    "result1 = text.replace(' ','')\n",
    "num = [0] * len(result1)\n",
    "result = ' '.join(list(result1))\n",
    "print(result)\n",
    "print(num)"
   ]
  },
  {
   "cell_type": "markdown",
   "metadata": {
    "id": "RPND3GNi79Gu"
   },
   "source": [
    "### 은행 FAQ (하나은행으로)\n",
    "\n",
    "- 나머지 은행은 질문 개수가 적어서 패스.."
   ]
  },
  {
   "cell_type": "code",
   "execution_count": 78,
   "metadata": {
    "executionInfo": {
     "elapsed": 2,
     "status": "ok",
     "timestamp": 1726227418789,
     "user": {
      "displayName": "박준희",
      "userId": "01167826914931997240"
     },
     "user_tz": -540
    },
    "id": "JCyluRZ18NWv"
   },
   "outputs": [],
   "source": [
    "import requests\n",
    "from bs4 import BeautifulSoup\n",
    "\n",
    "def get_questions(url):\n",
    "\n",
    "  r = requests.get(url)\n",
    "\n",
    "  soup = BeautifulSoup(r.text, \"html.parser\")\n",
    "\n",
    "  # .questionDetail 요소 선택\n",
    "  items = soup.select(\"ul.faqList li a\")\n",
    "\n",
    "  # 리스트로 반환된 각 요소에서 텍스트 추출\n",
    "  for item in items:\n",
    "      text = item.get_text(strip = True)[4:]\n",
    "      questions.append(text)"
   ]
  },
  {
   "cell_type": "code",
   "execution_count": 74,
   "metadata": {
    "colab": {
     "base_uri": "https://localhost:8080/"
    },
    "executionInfo": {
     "elapsed": 2742,
     "status": "ok",
     "timestamp": 1726227179472,
     "user": {
      "displayName": "박준희",
      "userId": "01167826914931997240"
     },
     "user_tz": -540
    },
    "id": "wjYuoTOAJ3WO",
    "outputId": "152e9741-320b-4471-95b6-c9a787e36608"
   },
   "outputs": [
    {
     "name": "stdout",
     "output_type": "stream",
     "text": [
      "금융인증서의 갱신발급(기한연장)은 언제하면 됩니까?\n",
      "여권조합번호를 실명번호로 사용하고 있습니다. 인증서를 발급받을 수 있나요?\n",
      "금융인증서 비밀번호를 분실한 경우 어떻게 해야하나요?\n",
      "해외에서도 금융인증서를 이용할 수 있나요?\n",
      "금융인증서를 발급 받으면 기존에 이용하던 공동인증서(구. 공인인증서)는 어떻게 되나요?\n",
      "금융인증서 이용중입니다. 휴대전화번호를 바꾸었는데, 기존 클라우드에 저장되어있는 금융인증서를 사용할 수 있나요?\n",
      "금융인증서 이용중입니다. 휴대전화 번호는 바꾸지 않고, 휴대전화 기기만 변경한 경우 기존에 생성한 클라우드 그대로 이용할 수 있나요?\n",
      "금융인증서를 공공기관에서도 이용이 가능한가요?\n",
      "하나원큐와 PC에서 금융인증서를 이용하고 싶습니다. 인증서 복사를 해야하나요?\n",
      "이미 타행에서 금융인증서를 발급받았습니다. 추가 발급을 해야 하나요?\n"
     ]
    }
   ],
   "source": [
    "get_questions(url1)"
   ]
  },
  {
   "cell_type": "code",
   "execution_count": 92,
   "metadata": {
    "colab": {
     "base_uri": "https://localhost:8080/"
    },
    "executionInfo": {
     "elapsed": 2768,
     "status": "ok",
     "timestamp": 1726227903416,
     "user": {
      "displayName": "박준희",
      "userId": "01167826914931997240"
     },
     "user_tz": -540
    },
    "id": "N8ZnbI_lH9la",
    "outputId": "2c828ffc-b84b-4fc2-b3cd-5358e6041784"
   },
   "outputs": [
    {
     "data": {
      "text/plain": [
       "['금융인증서의 갱신발급(기한연장)은 언제하면 됩니까?',\n",
       " '여권조합번호를 실명번호로 사용하고 있습니다. 인증서를 발급받을 수 있나요?',\n",
       " '금융인증서 비밀번호를 분실한 경우 어떻게 해야하나요?',\n",
       " '해외에서도 금융인증서를 이용할 수 있나요?',\n",
       " '금융인증서를 발급 받으면 기존에 이용하던 공동인증서(구. 공인인증서)는 어떻게 되나요?',\n",
       " '금융인증서 이용중입니다. 휴대전화번호를 바꾸었는데, 기존 클라우드에 저장되어있는 금융인증서를 사용할 수 있나요?',\n",
       " '금융인증서 이용중입니다. 휴대전화 번호는 바꾸지 않고, 휴대전화 기기만 변경한 경우 기존에 생성한 클라우드 그대로 이용할 수 있나요?',\n",
       " '금융인증서를 공공기관에서도 이용이 가능한가요?',\n",
       " '하나원큐와 PC에서 금융인증서를 이용하고 싶습니다. 인증서 복사를 해야하나요?',\n",
       " '이미 타행에서 금융인증서를 발급받았습니다. 추가 발급을 해야 하나요?']"
      ]
     },
     "execution_count": 92,
     "metadata": {},
     "output_type": "execute_result"
    }
   ],
   "source": [
    "questions = []\n",
    "url1 = \"https://www.kebhana.com/cont/customer/customer01/index.jsp\"\n",
    "r = requests.get(url1)\n",
    "soup = BeautifulSoup(r.text, \"html.parser\")\n",
    "items = soup.select(\"ul.faqList li a\")\n",
    "\n",
    "for item in items:\n",
    "  text = item.get_text(strip = True)[4:]\n",
    "  questions.append(text)\n",
    "\n",
    "questions"
   ]
  },
  {
   "cell_type": "code",
   "execution_count": 93,
   "metadata": {
    "colab": {
     "base_uri": "https://localhost:8080/"
    },
    "executionInfo": {
     "elapsed": 4911,
     "status": "ok",
     "timestamp": 1726227909146,
     "user": {
      "displayName": "박준희",
      "userId": "01167826914931997240"
     },
     "user_tz": -540
    },
    "id": "V3Kwaf50CdFQ",
    "outputId": "049c8f15-c4d4-4574-8c1a-2bc823ba3391"
   },
   "outputs": [
    {
     "data": {
      "text/plain": [
       "['금융인증서의 갱신발급(기한연장)은 언제하면 됩니까?',\n",
       " '여권조합번호를 실명번호로 사용하고 있습니다. 인증서를 발급받을 수 있나요?',\n",
       " '금융인증서 비밀번호를 분실한 경우 어떻게 해야하나요?',\n",
       " '해외에서도 금융인증서를 이용할 수 있나요?',\n",
       " '금융인증서를 발급 받으면 기존에 이용하던 공동인증서(구. 공인인증서)는 어떻게 되나요?',\n",
       " '금융인증서 이용중입니다. 휴대전화번호를 바꾸었는데, 기존 클라우드에 저장되어있는 금융인증서를 사용할 수 있나요?',\n",
       " '금융인증서 이용중입니다. 휴대전화 번호는 바꾸지 않고, 휴대전화 기기만 변경한 경우 기존에 생성한 클라우드 그대로 이용할 수 있나요?',\n",
       " '금융인증서를 공공기관에서도 이용이 가능한가요?',\n",
       " '하나원큐와 PC에서 금융인증서를 이용하고 싶습니다. 인증서 복사를 해야하나요?',\n",
       " '이미 타행에서 금융인증서를 발급받았습니다. 추가 발급을 해야 하나요?',\n",
       " '금융인증서의 발급은 어떻게 하나요?',\n",
       " '금융인증서가 무엇인가요?',\n",
       " '여권조합번호로 거래하는 사람은 범용 인증서 발급이 가능한가요?',\n",
       " '조합번호 전용 공동인증서가 무엇인가요?',\n",
       " '하나원큐인증이 무엇인가요?',\n",
       " '내 아이 통장만들기 서비스가 무엇인가요?',\n",
       " '전자금융 가입 시 ID/PW 입력을 안해도 되나요? 추후 등록하고 싶을땐 어떻게 하나요?',\n",
       " '하나원큐인증 로그인을 하려고 하는데, 앱 알림(Push)이 오지 않습니다.',\n",
       " '하나원큐인증 로그인이 무엇인가요?',\n",
       " '퇴직연금 가입확인서는 어디서 출력할 수 있나요?',\n",
       " ' >',\n",
       " '[인기][비대면][신분증확인] 비대면 실명 인증할 때 신분증 인식이 안됩니다.',\n",
       " '[로그인] 아이디 변경이 가능한가요?',\n",
       " '[로그인] 이용자 비밀번호(ID/PW의 PW)를 잊어버렸어요.',\n",
       " '[로그인] 이용자 ID(아이디)를 잊어버렸어요. 어떻게 찾나요?',\n",
       " '[로그인] 이용자 비밀번호 변경하는 방법은 무엇인가요?',\n",
       " '[로그인] 전자금융 이용자 비밀번호를 등록하려고 합니다.',\n",
       " '[간편로그인] 간편인증이 무엇이고 어떻게 이용하나요?',\n",
       " '[간편로그인] 지문인증이 무엇이고 어떻게 이용하나요?',\n",
       " '[간편로그인] 패턴인증이 무엇이고 어떻게 이용하나요?',\n",
       " '[로그인 설정] 하나원큐 로그인 방법의 기본 설정을 변경하고 싶습니다. 어떻게 해야하나요?']"
      ]
     },
     "execution_count": 93,
     "metadata": {},
     "output_type": "execute_result"
    }
   ],
   "source": [
    "for i in range(2,6,2):\n",
    "  url = f\"https://www.kebhana.com/cont/customer/customer01/index,1,list,{i}.jsp\"\n",
    "  get_questions(url)\n",
    "questions"
   ]
  },
  {
   "cell_type": "code",
   "execution_count": 94,
   "metadata": {
    "colab": {
     "base_uri": "https://localhost:8080/"
    },
    "executionInfo": {
     "elapsed": 311,
     "status": "ok",
     "timestamp": 1726227926217,
     "user": {
      "displayName": "박준희",
      "userId": "01167826914931997240"
     },
     "user_tz": -540
    },
    "id": "BGmVjGudM7EX",
    "outputId": "2af961ca-d52b-4cea-d2a1-47ca4e72d03e"
   },
   "outputs": [
    {
     "data": {
      "text/plain": [
       "['여 권 조 합 번 호 를 실 명 번 호 로 사 용 하 고 있 습 니 다 . 인 증 서 를 발 급 받 을 수 있 나 요 ?',\n",
       " '금 융 인 증 서 비 밀 번 호 를 분 실 한 경 우 어 떻 게 해 야 하 나 요 ?']"
      ]
     },
     "execution_count": 94,
     "metadata": {},
     "output_type": "execute_result"
    }
   ],
   "source": [
    "texts = []\n",
    "labels = []\n",
    "for question in questions:\n",
    "  wo_blank = question.replace(' ','') # 공백제거\n",
    "  num = [0] * len(wo_blank)\n",
    "  result = ' '.join(list(wo_blank))\n",
    "  labels.append(num)\n",
    "  texts.append(result)\n",
    "\n",
    "texts[1:3]"
   ]
  },
  {
   "cell_type": "code",
   "execution_count": 95,
   "metadata": {
    "colab": {
     "base_uri": "https://localhost:8080/"
    },
    "executionInfo": {
     "elapsed": 321,
     "status": "ok",
     "timestamp": 1726227936841,
     "user": {
      "displayName": "박준희",
      "userId": "01167826914931997240"
     },
     "user_tz": -540
    },
    "id": "wUBN1Z3fM-Im",
    "outputId": "a2c3f2aa-3648-4493-8d6d-824bf210dbe3"
   },
   "outputs": [
    {
     "data": {
      "text/plain": [
       "[[0,\n",
       "  0,\n",
       "  0,\n",
       "  0,\n",
       "  0,\n",
       "  0,\n",
       "  0,\n",
       "  0,\n",
       "  0,\n",
       "  0,\n",
       "  0,\n",
       "  0,\n",
       "  0,\n",
       "  0,\n",
       "  0,\n",
       "  0,\n",
       "  0,\n",
       "  0,\n",
       "  0,\n",
       "  0,\n",
       "  0,\n",
       "  0,\n",
       "  0,\n",
       "  0,\n",
       "  0,\n",
       "  0,\n",
       "  0,\n",
       "  0,\n",
       "  0,\n",
       "  0,\n",
       "  0,\n",
       "  0,\n",
       "  0,\n",
       "  0],\n",
       " [0, 0, 0, 0, 0, 0, 0, 0, 0, 0, 0, 0, 0, 0, 0, 0, 0, 0, 0, 0, 0, 0, 0, 0]]"
      ]
     },
     "execution_count": 95,
     "metadata": {},
     "output_type": "execute_result"
    }
   ],
   "source": [
    "labels[1:3]"
   ]
  }
 ],
 "metadata": {
  "colab": {
   "authorship_tag": "ABX9TyPIYC1c/9SCwsE6NTf8s2w/",
   "provenance": []
  },
  "kernelspec": {
   "display_name": "Python 3",
   "name": "python3"
  },
  "language_info": {
   "name": "python"
  }
 },
 "nbformat": 4,
 "nbformat_minor": 0
}
