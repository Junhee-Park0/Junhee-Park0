{
 "cells": [
  {
   "cell_type": "code",
   "execution_count": 3,
   "metadata": {},
   "outputs": [],
   "source": [
    "# ! pip install pandas \n",
    "# ! pip install numpy\n",
    "# ! pip install gensim.models"
   ]
  },
  {
   "cell_type": "code",
   "execution_count": 1,
   "metadata": {},
   "outputs": [],
   "source": [
    "import pandas as pd\n",
    "import pandas as pd\n",
    "import numpy as np\n",
    "from gensim.models import Word2Vec\n",
    "from gensim import models\n",
    "from gensim.models import KeyedVectors\n",
    "import ast\n",
    "import re\n",
    "import pickle\n",
    "\n",
    "# 코사인 유사도\n",
    "import numpy as np\n",
    "from numpy import dot\n",
    "from numpy.linalg import norm\n",
    "\n",
    "# 유사 태그 출력\n",
    "from heapq import nlargest\n",
    "from heapq import nsmallest\n",
    "\n",
    "# # 모델에 없는 단어들 형태소 분석 \n",
    "# from konlpy.tag import Okt\n",
    "# from konlpy.utils import pprint\n",
    "# okt = Okt()"
   ]
  },
  {
   "cell_type": "markdown",
   "metadata": {},
   "source": [
    "#### DATA"
   ]
  },
  {
   "cell_type": "code",
   "execution_count": 2,
   "metadata": {},
   "outputs": [],
   "source": [
    "# 데이터 받아오기 \n",
    "chart_tag = pd.read_pickle(\"C:/Users/SAMSUNG/Desktop/KUBIG/2024 Fall/추천시스템/Mine/DATA/chart.pickle\")\n",
    "genre_tag = pd.read_pickle(\"C:/Users/SAMSUNG/Desktop/KUBIG/2024 Fall/추천시스템/Mine/DATA/genre.pickle\")\n",
    "playlist_tag = pd.read_pickle(\"C:/Users/SAMSUNG/Desktop/KUBIG/2024 Fall/추천시스템/Mine/DATA/playlist.pickle\")\n",
    "id = pd.read_pickle(\"C:/Users/SAMSUNG/Desktop/KUBIG/2024 Fall/추천시스템/Mine/DATA/playlist_id.pkl\")\n",
    "\n",
    "model_path = \"C:/Users/SAMSUNG/Desktop/KUBIG/2024 Fall/추천시스템/Model/cc.ko.300.vec\""
   ]
  },
  {
   "cell_type": "code",
   "execution_count": 3,
   "metadata": {},
   "outputs": [],
   "source": [
    "# 전처리\n",
    "playlist_tag.rename(columns = {'발매일':'발매년도', '좋아요':'좋아요 수'}, inplace = True)\n",
    "\n",
    "chart_tag2 = chart_tag.drop('연도', axis = 1)\n",
    "playlist_tag2 = playlist_tag.drop('플리', axis = 1)\n",
    "songs_tag = pd.concat([chart_tag2, genre_tag, playlist_tag2])"
   ]
  },
  {
   "cell_type": "code",
   "execution_count": 4,
   "metadata": {},
   "outputs": [],
   "source": [
    "# 합치기! \n",
    "\n",
    "songs_tag = songs_tag[songs_tag['발매년도'] != '-']\n",
    "songs_tag.loc[:, '발매년도'] = songs_tag['발매년도'].apply(lambda x: str(x)[:4] if len(str(x)) > 4 else str(x))\n",
    "songs_tag.loc[:, '좋아요 수'] = songs_tag['좋아요 수'].apply(lambda x: int(str(x).replace(',','')))\n",
    "songs_tag = songs_tag.astype({'발매년도':'int32', '좋아요 수':'int32'})\n",
    "songs_tag = songs_tag.drop_duplicates(['제목','가수'], keep = 'first')"
   ]
  },
  {
   "cell_type": "code",
   "execution_count": 5,
   "metadata": {},
   "outputs": [
    {
     "data": {
      "text/plain": [
       "[['여름', '더워', '시원', '청량', '플리', '케이팝', 'kpop', '키오프'],\n",
       " ['팝송', '케이팝', '매장', '카페', '식당', '브금', '노래', '휴식', '신나는', '일']]"
      ]
     },
     "execution_count": 5,
     "metadata": {},
     "output_type": "execute_result"
    }
   ],
   "source": [
    "# 태그 전처리 \n",
    "hashtags = id.copy()\n",
    "\n",
    "# 해시태그 없는 플레이리스트 제외\n",
    "hashtags = hashtags[hashtags['tag'].str.contains(\"#\")]\n",
    "# 리스트로 전부 가져오기\n",
    "only_tags = hashtags['tag'].tolist()\n",
    "# \"#\" 제거하기\n",
    "tags_fin  = []\n",
    "for tag in only_tags:\n",
    "  tags_fin.append(re.sub(r\"[#\\[\\]\\'\\,]\",\"\",tag).split())\n",
    "tags_fin[:2]"
   ]
  },
  {
   "cell_type": "markdown",
   "metadata": {},
   "source": [
    "트랙 1) 일기 태그와 유사한 플리 찾아서 출력\n",
    "\n",
    "트랙 2) 일기 태그와 가사 태그가 유사한 노래들\n",
    "\n",
    "음악 취향 입력\n",
    "일기 태그, 가사 태그 각각"
   ]
  },
  {
   "cell_type": "markdown",
   "metadata": {},
   "source": [
    "#### 시도 1 - word2vec, OOV 삭제 "
   ]
  },
  {
   "cell_type": "markdown",
   "metadata": {},
   "source": [
    "##### 트랙 1) 플리 태그 기반 플리 찾기"
   ]
  },
  {
   "cell_type": "code",
   "execution_count": 6,
   "metadata": {},
   "outputs": [
    {
     "name": "stdout",
     "output_type": "stream",
     "text": [
      "이별이랑 비슷: [('추억', 0.9958157539367676), ('우울', 0.9957407712936401), ('야경', 0.9955396056175232), ('잔잔한', 0.9953756332397461), ('새벽', 0.995330274105072), ('카페', 0.9953253865242004), ('인디', 0.9951081871986389), ('세련된', 0.9950740933418274), ('센치한', 0.9950241446495056), ('감성힙합', 0.9949735999107361)]\n",
      "사랑이랑 비슷: [('세련된', 0.9960087537765503), ('발라드', 0.995893657207489), ('감성', 0.995736300945282), ('센치한', 0.9956501722335815), ('겨울', 0.9954304099082947), ('행복', 0.9953859448432922), ('편안한', 0.9953819513320923), ('우울', 0.9953790307044983), ('한강', 0.9953010678291321), ('노래방', 0.9952926635742188)]\n",
      "여름이랑 비슷: [('발라드', 0.9968786239624023), ('청춘', 0.9961419105529785), ('겨울', 0.9959815740585327), ('피크닉', 0.9959700107574463), ('인디', 0.9958917498588562), ('Pop', 0.9958612322807312), ('케이팝', 0.9958339929580688), ('트렌디', 0.9958193302154541), ('설레는', 0.9956774711608887), ('세련된', 0.9956440925598145)]\n"
     ]
    }
   ],
   "source": [
    "# 모델 학습 \n",
    "word2vec_playlist = Word2Vec(sentences = tags_fin, vector_size = 50, window = 3, min_count = 1, sg = 1, workers = 4)\n",
    "\n",
    "# 각 단어와 비슷한 단어 찾기... 성능 체크\n",
    "print(\"이별이랑 비슷:\", word2vec_playlist.wv.most_similar(\"이별\"))\n",
    "print(\"사랑이랑 비슷:\", word2vec_playlist.wv.most_similar(\"사랑\"))\n",
    "print(\"여름이랑 비슷:\", word2vec_playlist.wv.most_similar(\"여름\"))"
   ]
  },
  {
   "cell_type": "markdown",
   "metadata": {},
   "source": [
    "###### 성능이 엄청 막 좋아보이지는 않...아"
   ]
  },
  {
   "cell_type": "code",
   "execution_count": 7,
   "metadata": {},
   "outputs": [],
   "source": [
    "# 기존 태그 임베딩, 벡터 평균 함수 \n",
    "def vector_and_average(input_lists, model):\n",
    "  avg_vectors = []\n",
    "  for list in input_lists:\n",
    "    vectors = [model.wv[word] for word in list]\n",
    "    avg = sum(vectors) / len(vectors)\n",
    "    avg_vectors.append(avg)\n",
    "  return avg_vectors\n",
    "\n",
    "# 새로운 입력 - 모델에 있는 단어들만을 가지고 평균 벡터 생성\n",
    "def new_tag_vector(tag, model):\n",
    "  tag_vector = []\n",
    "  for word in tag:\n",
    "    if word in model.wv:\n",
    "      tag_vector.append(model.wv[word])\n",
    "    else:\n",
    "      print(f\"{word} 단어는 모델에 없습니다..\")\n",
    "\n",
    "  avg_vector = sum(tag_vector)/len(tag_vector)\n",
    "  return avg_vector\n",
    "\n",
    "# 코사인 유사도 함수\n",
    "def cos_sim(A, B):\n",
    "  return dot(A, B)/(norm(A)*norm(B))\n",
    "\n",
    "# 유사 해시태그 출력 함수\n",
    "def similar_things(new_input, original_tags, model, num):\n",
    "  new_vector = new_tag_vector(new_input, model)\n",
    "  original_vectors = vector_and_average(original_tags, model)\n",
    "  # 유사도 계산\n",
    "  similarities = []\n",
    "  for i in range(len(original_tags)):\n",
    "    similarities.append(cos_sim(new_vector, original_vectors[i]))\n",
    "  # 유사 해시태그 출력\n",
    "  top_index = [idx for idx,_ in nlargest(num, enumerate(similarities), key = lambda x:x[1])] # enumerate 에서 두 번째 요소(유사도) 기준\n",
    "  top_tags = [original_tags[idx] for idx in top_index] # 유사한 \"태그\"\n",
    "  # print(top_index) # 유사한 \"플리 index\"\n",
    "  return top_index, top_tags"
   ]
  },
  {
   "cell_type": "code",
   "execution_count": 8,
   "metadata": {},
   "outputs": [
    {
     "name": "stdout",
     "output_type": "stream",
     "text": [
      "첫 해시태그의 벡터화 : \n",
      " [ 0.04174288 -0.07175546  0.03454174  0.03228088 -0.03121519 -0.15712497\n",
      "  0.15373649  0.20935765 -0.22676413 -0.11801913  0.02619883 -0.1937085\n",
      "  0.15632737  0.0937292  -0.03358329  0.11670556  0.06203141  0.01118164\n",
      " -0.25351626 -0.10508794  0.01724208  0.14439414  0.24781309 -0.06193255\n",
      "  0.15933226  0.00472437 -0.10877293  0.05716702 -0.16969669  0.0780718\n",
      "  0.01862974 -0.07770737 -0.01380573 -0.06982583 -0.15681936  0.1373198\n",
      "  0.12205312 -0.02337974  0.02634025 -0.01653233  0.19973798 -0.01456144\n",
      " -0.01904519 -0.00472036  0.31496435  0.01789968 -0.11823456 -0.0732379\n",
      "  0.07841399  0.13612808]\n",
      "몽글몽글몽글몽글 단어는 모델에 없습니다..\n",
      "흥분 단어는 모델에 없습니다..\n"
     ]
    },
    {
     "data": {
      "text/plain": [
       "[301, 728, 161, 813, 816]"
      ]
     },
     "execution_count": 8,
     "metadata": {},
     "output_type": "execute_result"
    }
   ],
   "source": [
    "# 기존 해시태그들 벡터화, 평균 계산\n",
    "tags_vector = []\n",
    "for tag in tags_fin:\n",
    "  tags_vector.append(new_tag_vector(tag, word2vec_playlist))\n",
    "\n",
    "print(f\"첫 해시태그의 벡터화 : \\n {tags_vector[0]}\")\n",
    "\n",
    "# 새로운 태그에 대한 평균 벡터 생성\n",
    "new_tag = ['겨울', '사랑', '눈', '몽글몽글몽글몽글']\n",
    "new_vector = new_tag_vector(new_tag, word2vec_playlist)\n",
    "\n",
    "# 새로운 input과 유사한 애들\n",
    "sim = similar_things(['신남', '댄스', '드라이브', '여름', '더워', '흥분'], tags_fin, word2vec_playlist, 5)\n",
    "sim[0]"
   ]
  },
  {
   "cell_type": "code",
   "execution_count": 9,
   "metadata": {},
   "outputs": [
    {
     "data": {
      "text/html": [
       "<div>\n",
       "<style scoped>\n",
       "    .dataframe tbody tr th:only-of-type {\n",
       "        vertical-align: middle;\n",
       "    }\n",
       "\n",
       "    .dataframe tbody tr th {\n",
       "        vertical-align: top;\n",
       "    }\n",
       "\n",
       "    .dataframe thead th {\n",
       "        text-align: right;\n",
       "    }\n",
       "</style>\n",
       "<table border=\"1\" class=\"dataframe\">\n",
       "  <thead>\n",
       "    <tr style=\"text-align: right;\">\n",
       "      <th></th>\n",
       "      <th>name</th>\n",
       "      <th>tag</th>\n",
       "      <th>id</th>\n",
       "    </tr>\n",
       "  </thead>\n",
       "  <tbody>\n",
       "    <tr>\n",
       "      <th>301</th>\n",
       "      <td>output_17</td>\n",
       "      <td>['#여름', '#신나는', '#팝', '#댄스', '#하우스', '#드라이브']</td>\n",
       "      <td>302</td>\n",
       "    </tr>\n",
       "    <tr>\n",
       "      <th>728</th>\n",
       "      <td>ozu_4</td>\n",
       "      <td>['#인디', '#위로', '#힘들때', '#우울', '#지친일상', '#하루의끝']</td>\n",
       "      <td>729</td>\n",
       "    </tr>\n",
       "    <tr>\n",
       "      <th>161</th>\n",
       "      <td>moonsound_14</td>\n",
       "      <td>['#여름', '#남자아이돌', '#댄스', '#드라이브', '#신나는', '#기분...</td>\n",
       "      <td>162</td>\n",
       "    </tr>\n",
       "    <tr>\n",
       "      <th>813</th>\n",
       "      <td>shorthair_18</td>\n",
       "      <td>['#감성', '#추억', '#지하철', '#가사', '#보고싶다', '#사랑', ...</td>\n",
       "      <td>814</td>\n",
       "    </tr>\n",
       "    <tr>\n",
       "      <th>816</th>\n",
       "      <td>jjinmak_1</td>\n",
       "      <td>['#응원', '#기분전환', '#위로', '#희망', '#힐링', '#휴식', '...</td>\n",
       "      <td>817</td>\n",
       "    </tr>\n",
       "  </tbody>\n",
       "</table>\n",
       "</div>"
      ],
      "text/plain": [
       "             name                                                tag   id\n",
       "301     output_17      ['#여름', '#신나는', '#팝', '#댄스', '#하우스', '#드라이브']  302\n",
       "728         ozu_4    ['#인디', '#위로', '#힘들때', '#우울', '#지친일상', '#하루의끝']  729\n",
       "161  moonsound_14  ['#여름', '#남자아이돌', '#댄스', '#드라이브', '#신나는', '#기분...  162\n",
       "813  shorthair_18  ['#감성', '#추억', '#지하철', '#가사', '#보고싶다', '#사랑', ...  814\n",
       "816     jjinmak_1  ['#응원', '#기분전환', '#위로', '#희망', '#힐링', '#휴식', '...  817"
      ]
     },
     "execution_count": 9,
     "metadata": {},
     "output_type": "execute_result"
    }
   ],
   "source": [
    "# 추천 플레이리스트와 해시태그 \n",
    "id.iloc[sim[0]]"
   ]
  },
  {
   "cell_type": "markdown",
   "metadata": {},
   "source": [
    "##### 트랙 2) 음악 취향 필터링, 가사 태그 기반 노래 찾기 "
   ]
  },
  {
   "cell_type": "code",
   "execution_count": 10,
   "metadata": {},
   "outputs": [],
   "source": [
    "# 결측치 제거 \n",
    "songs_tag_nona = songs_tag[~songs_tag['키워드'].isna()].copy()\n",
    "\n",
    "# 키워드 + 감정 \n",
    "songs_tag_nona['tags'] = songs_tag_nona['키워드'] + songs_tag_nona['감정']\n",
    "\n",
    "songs_tags = songs_tag_nona['tags'].tolist()"
   ]
  },
  {
   "cell_type": "code",
   "execution_count": 11,
   "metadata": {},
   "outputs": [
    {
     "name": "stdout",
     "output_type": "stream",
     "text": [
      "이별이랑 비슷: [('미련', 0.9965863823890686), ('눈물', 0.996432900428772), ('헤어짐', 0.9945165514945984), ('허전함', 0.9924057126045227), ('후회', 0.9920188188552856), ('아픔', 0.9888947606086731), ('미안함', 0.9880008697509766), ('기억', 0.9863479733467102), ('비', 0.9846117496490479), ('슬픔', 0.9840127229690552)]\n",
      "사랑이랑 비슷: [('우리', 0.9885333776473999), ('당신', 0.9868236780166626), ('고백', 0.9836774468421936), ('마음', 0.982589840888977), ('영원', 0.9825274348258972), ('기다림', 0.9824977517127991), ('약속', 0.9803306460380554), ('눈', 0.978808581829071), ('미소', 0.9772049188613892), ('봄', 0.9770039916038513)]\n",
      "여름이랑 비슷: [('바다', 0.991234540939331), ('감동', 0.990029513835907), ('별', 0.9897505044937134), ('따뜻함', 0.9886747002601624), ('순간', 0.988482654094696), ('크리스마스', 0.9882587194442749), ('안락함', 0.9848021864891052), ('설레임', 0.9840795993804932), ('하늘', 0.9839812517166138), ('안정', 0.98306804895401)]\n"
     ]
    }
   ],
   "source": [
    "# 모델 학습 \n",
    "word2vec_songs = Word2Vec(sentences = songs_tags, vector_size = 100, window = 4, min_count = 1, workers = 4)\n",
    "\n",
    "print(\"이별이랑 비슷:\", word2vec_songs.wv.most_similar(\"이별\"))\n",
    "print(\"사랑이랑 비슷:\", word2vec_songs.wv.most_similar(\"사랑\"))\n",
    "print(\"여름이랑 비슷:\", word2vec_songs.wv.most_similar(\"여름\"))"
   ]
  },
  {
   "cell_type": "code",
   "execution_count": 12,
   "metadata": {},
   "outputs": [
    {
     "name": "stdout",
     "output_type": "stream",
     "text": [
      "24088\n",
      "몽글몽글몽글몽글 단어는 모델에 없습니다..\n"
     ]
    },
    {
     "data": {
      "text/html": [
       "<div>\n",
       "<style scoped>\n",
       "    .dataframe tbody tr th:only-of-type {\n",
       "        vertical-align: middle;\n",
       "    }\n",
       "\n",
       "    .dataframe tbody tr th {\n",
       "        vertical-align: top;\n",
       "    }\n",
       "\n",
       "    .dataframe thead th {\n",
       "        text-align: right;\n",
       "    }\n",
       "</style>\n",
       "<table border=\"1\" class=\"dataframe\">\n",
       "  <thead>\n",
       "    <tr style=\"text-align: right;\">\n",
       "      <th></th>\n",
       "      <th>제목</th>\n",
       "      <th>가수</th>\n",
       "      <th>가사</th>\n",
       "      <th>발매년도</th>\n",
       "      <th>장르</th>\n",
       "      <th>좋아요 수</th>\n",
       "      <th>키워드</th>\n",
       "      <th>감정</th>\n",
       "      <th>tags</th>\n",
       "    </tr>\n",
       "  </thead>\n",
       "  <tbody>\n",
       "    <tr>\n",
       "      <th>6335</th>\n",
       "      <td>하나뿐인 사람</td>\n",
       "      <td>케이윌</td>\n",
       "      <td>그대의 눈을 보면 떨려오는 가슴에 설레곤해 그대를 바라보면 온 세상이 멈춰버린듯 느...</td>\n",
       "      <td>2014</td>\n",
       "      <td>발라드, 국내드라마</td>\n",
       "      <td>19005</td>\n",
       "      <td>[그대, 가슴, 봄]</td>\n",
       "      <td>[설레임, 믿음, 사랑]</td>\n",
       "      <td>[그대, 가슴, 봄, 설레임, 믿음, 사랑]</td>\n",
       "    </tr>\n",
       "    <tr>\n",
       "      <th>2548</th>\n",
       "      <td>Mine (POP Mix)</td>\n",
       "      <td>Taylor Swift</td>\n",
       "      <td>You were in college workin' part time waitin' ...</td>\n",
       "      <td>2010</td>\n",
       "      <td>포크/블루스/컨트리</td>\n",
       "      <td>1990</td>\n",
       "      <td>[물가, 파트타임, 사랑]</td>\n",
       "      <td>[추억, 감동, 두려움]</td>\n",
       "      <td>[물가, 파트타임, 사랑, 추억, 감동, 두려움]</td>\n",
       "    </tr>\n",
       "  </tbody>\n",
       "</table>\n",
       "</div>"
      ],
      "text/plain": [
       "                  제목            가수   \n",
       "6335         하나뿐인 사람           케이윌  \\\n",
       "2548  Mine (POP Mix)  Taylor Swift   \n",
       "\n",
       "                                                     가사  발매년도          장르   \n",
       "6335  그대의 눈을 보면 떨려오는 가슴에 설레곤해 그대를 바라보면 온 세상이 멈춰버린듯 느...  2014  발라드, 국내드라마  \\\n",
       "2548  You were in college workin' part time waitin' ...  2010  포크/블루스/컨트리   \n",
       "\n",
       "      좋아요 수             키워드             감정                         tags  \n",
       "6335  19005     [그대, 가슴, 봄]  [설레임, 믿음, 사랑]     [그대, 가슴, 봄, 설레임, 믿음, 사랑]  \n",
       "2548   1990  [물가, 파트타임, 사랑]  [추억, 감동, 두려움]  [물가, 파트타임, 사랑, 추억, 감동, 두려움]  "
      ]
     },
     "execution_count": 12,
     "metadata": {},
     "output_type": "execute_result"
    }
   ],
   "source": [
    "# 기존 태그 벡터화 \n",
    "original_vectors = vector_and_average(songs_tags, word2vec_songs)\n",
    "\n",
    "print(len(original_vectors)) \n",
    "\n",
    "# 새로운 태그 벡터화 \n",
    "idx, tag = similar_things(new_tag, songs_tags, word2vec_songs, 2)\n",
    "songs_tag_nona.iloc[idx,:]"
   ]
  },
  {
   "cell_type": "markdown",
   "metadata": {},
   "source": [
    "### 최종 !!!"
   ]
  },
  {
   "cell_type": "code",
   "execution_count": 14,
   "metadata": {},
   "outputs": [
    {
     "name": "stdout",
     "output_type": "stream",
     "text": [
      "['기대', '꿈', '아쉬움', '신남', '방학', '절반', '행복', '공부']\n"
     ]
    }
   ],
   "source": [
    "#### 일기 태그 ####\n",
    "\n",
    "# ! pip install openai\n",
    "# ! pip install python-dotenv\n",
    "\n",
    "import os\n",
    "from openai import OpenAI\n",
    "from dotenv import load_dotenv\n",
    "import ast\n",
    "\n",
    "# API \n",
    "def get_api():\n",
    "    load_dotenv()\n",
    "    OPENAI_API_KEY = os.environ.get(\"OPENAI_API_KEY\")\n",
    "    return OPENAI_API_KEY\n",
    "\n",
    "api = get_api()\n",
    "client = OpenAI(api_key = api)\n",
    "\n",
    "# Keywords\n",
    "def get_keywords(input_text):\n",
    "\n",
    "    prompt = f\"\"\"\n",
    "    You are a helpful asssistant. \n",
    "    Extract **four emotions** and **four keyword** in **Korean** from the following text : {input_text}.\n",
    "    Make sure all the answers are **nouns**.\n",
    "    Follow the given format : \n",
    "    {[\"emotion1\", \"emotion2\", \"emotion3\", \"emotion4\", \"keyword1\", \"keyword2\", \"keyword3\", \"keyword4\"]}\n",
    "    \"\"\"\n",
    "\n",
    "    response = client.chat.completions.create(\n",
    "        model = \"gpt-3.5-turbo\",\n",
    "        messages = [\n",
    "            {\"role\": \"system\", \"content\": \"You are a helpful assistant.\"},\n",
    "            {\"role\": \"user\", \"content\": prompt}\n",
    "        ],\n",
    "        # max_tokens = 50,\n",
    "        # temperature = 0.3\n",
    "    )\n",
    "\n",
    "    keywords = response.choices[0].message.content\n",
    "    return keywords \n",
    "\n",
    "####################################################################################\n",
    "input_text = \"\"\"\n",
    "방학이 벌써 반이나 지나가버렸어. \n",
    "오랫동안 기대하고 꿈꿨던 방학이었는데.. 벌써 반이나 갔다니 너무 아쉬워ㅠㅠ\n",
    "그래도 남은 절반을 신나고 행복하게 즐겨볼 테야!\n",
    "이제 연휴니까 푹 쉬고 열심히 공부도 해야지!\n",
    "\"\"\"\n",
    "#####################################################################################\n",
    "\n",
    "diary_keywords = get_keywords(input_text)\n",
    "\n",
    "diary_tags = ast.literal_eval(diary_keywords)\n",
    "print(diary_tags)"
   ]
  },
  {
   "cell_type": "markdown",
   "metadata": {},
   "source": [
    "#### 시도 1"
   ]
  },
  {
   "cell_type": "code",
   "execution_count": 15,
   "metadata": {},
   "outputs": [
    {
     "data": {
      "text/html": [
       "<div>\n",
       "<style scoped>\n",
       "    .dataframe tbody tr th:only-of-type {\n",
       "        vertical-align: middle;\n",
       "    }\n",
       "\n",
       "    .dataframe tbody tr th {\n",
       "        vertical-align: top;\n",
       "    }\n",
       "\n",
       "    .dataframe thead th {\n",
       "        text-align: right;\n",
       "    }\n",
       "</style>\n",
       "<table border=\"1\" class=\"dataframe\">\n",
       "  <thead>\n",
       "    <tr style=\"text-align: right;\">\n",
       "      <th></th>\n",
       "      <th>name</th>\n",
       "      <th>tag</th>\n",
       "    </tr>\n",
       "  </thead>\n",
       "  <tbody>\n",
       "    <tr>\n",
       "      <th>728</th>\n",
       "      <td>ozu_4</td>\n",
       "      <td>['#인디', '#위로', '#힘들때', '#우울', '#지친일상', '#하루의끝']</td>\n",
       "    </tr>\n",
       "    <tr>\n",
       "      <th>964</th>\n",
       "      <td>choco_9</td>\n",
       "      <td>['#청춘', '#일본밴드', '#락', '#청량', '#드라이브', '#스트레스'...</td>\n",
       "    </tr>\n",
       "    <tr>\n",
       "      <th>446</th>\n",
       "      <td>sonik_2</td>\n",
       "      <td>['#여름밤', '#열대야', '#팝송', '#감성', '#밤', '#새벽', '#...</td>\n",
       "    </tr>\n",
       "    <tr>\n",
       "      <th>101</th>\n",
       "      <td>mogu_4</td>\n",
       "      <td>['#Rock', '#감성', '#록', '#밴드', '#기분전환', '#휴식', ...</td>\n",
       "    </tr>\n",
       "    <tr>\n",
       "      <th>772</th>\n",
       "      <td>miles_8</td>\n",
       "      <td>['#중세시대', '#케이팝', '#수록곡', '#아이돌', '#화려한', '#무도...</td>\n",
       "    </tr>\n",
       "  </tbody>\n",
       "</table>\n",
       "</div>"
      ],
      "text/plain": [
       "        name                                                tag\n",
       "728    ozu_4    ['#인디', '#위로', '#힘들때', '#우울', '#지친일상', '#하루의끝']\n",
       "964  choco_9  ['#청춘', '#일본밴드', '#락', '#청량', '#드라이브', '#스트레스'...\n",
       "446  sonik_2  ['#여름밤', '#열대야', '#팝송', '#감성', '#밤', '#새벽', '#...\n",
       "101   mogu_4  ['#Rock', '#감성', '#록', '#밴드', '#기분전환', '#휴식', ...\n",
       "772  miles_8  ['#중세시대', '#케이팝', '#수록곡', '#아이돌', '#화려한', '#무도..."
      ]
     },
     "execution_count": 15,
     "metadata": {},
     "output_type": "execute_result"
    }
   ],
   "source": [
    "# 트랙 1\n",
    "\n",
    "# 일기 태그와 모델 \n",
    "filtered_diary_tags = [word for word in diary_tags if word in word2vec_playlist.wv]\n",
    "\n",
    "# 유사한 플레이리스트 \n",
    "idx, _ = similar_things(filtered_diary_tags, tags_fin, word2vec_playlist, 5)\n",
    "id.iloc[idx, [0,1]]"
   ]
  },
  {
   "cell_type": "code",
   "execution_count": 17,
   "metadata": {},
   "outputs": [
    {
     "name": "stdout",
     "output_type": "stream",
     "text": [
      "                                          제목                     가수   \n",
      "5615                            Come With Me  Surfaces, salem ilese  \\\n",
      "21647                     The Christmas Song         Johnny Stimson   \n",
      "12530               if this is the last time                   LANY   \n",
      "5222                       떠나지 못할 이유는 없었다는 걸                     하림   \n",
      "3652                      Summer In New York            Sofi Tukker   \n",
      "29374                              Moonlight  AB6IX (에이비식스), Reiley   \n",
      "1582                                Cat Cafe                 Shoffy   \n",
      "12352                                 sunday              hard life   \n",
      "12114                        You Got Me Like            SHAED, snny   \n",
      "18350         もう少しだけ (조금만 더, Mousukoshidake)                YOASOBI   \n",
      "11353                        Straight To You       Stephanie Poetri   \n",
      "12409                                   Easy            Peder Elias   \n",
      "7108                                 Skyline                 Khalid   \n",
      "28617  Ima -Even if the world ends tomorrow-        세븐틴 (SEVENTEEN)   \n",
      "29113   Summer Feelings (feat. Charlie Puth)          Lennon Stella   \n",
      "\n",
      "                                        tags  \n",
      "5615                [여름, 시간, 자유, 기대, 희망, 행복]  \n",
      "21647              [불, 얼음, 노래, 따뜻함, 기다림, 행복]  \n",
      "12530             [엄마, 아빠, 마지막, 감동, 감사, 애틋함]  \n",
      "5222   [떠나지 못할 이유, 뜨거운 태양, 길 위, 행복, 괴로움, 웃음]  \n",
      "3652                [거리, 여름, 뉴욕, 행복, 설렘, 자유]  \n",
      "29374               [달빛, 불꽃, 별빛, 설렘, 사랑, 기대]  \n",
      "1582             [꿈, 사랑, 인생, 행복, 사랑스러움, 안락함]  \n",
      "12352             [피자, 햇살, 일요일, 행복, 사랑, 편안함]  \n",
      "12114           [잔디, 레몬에이드, 영원, 편안함, 행복, 애정]  \n",
      "18350              [기쁨, 상냥함, 하루, 기대, 감사, 위로]  \n",
      "11353                 [꿈, 일, 사랑, 행복, 놀람, 감사]  \n",
      "12409              [내, 편안함, 사랑, 행복, 편안함, 안정]  \n",
      "7108            [시간, 아름다운 세상, 손, 설렘, 행복, 희망]  \n",
      "28617              [오늘, 내일, 세계, 긴장감, 희망, 감동]  \n",
      "29113               [여름, 해변, 느낌, 여유, 사랑, 행복]  \n"
     ]
    }
   ],
   "source": [
    "# 트랙 2\n",
    "\n",
    "# 일기 태그와 모델 \n",
    "filtered_diary_tags = [word for word in diary_tags if word in word2vec_songs.wv]\n",
    "\n",
    "# 사용자 입력\n",
    "genre_input = input(\"어떤 장르의 음악을 좋아하시나요? (예: 힙합, 발라드 등): \")\n",
    "likes_input = input(\"유명한 곡들이 좋으신가요? (o, x로 답해주세요!): \")\n",
    "release_input = input(\"최신 노래를 좋아하시나요? (o, x로 답해주세요!): \")\n",
    "\n",
    "# 취향 필터링 \n",
    "def filtering(genre_input, release_input, likes_input):\n",
    "    # 장르 필터링 \n",
    "    genre_df = songs_tag_nona[songs_tag_nona['장르'].str.contains(genre_input)]\n",
    "\n",
    "    # 발매년도 필터링 \n",
    "    if release_input == 'o':\n",
    "        year_df = genre_df[genre_df['발매년도'] >= 2010]\n",
    "    elif release_input == 'x':\n",
    "        year_df = genre_df[genre_df['발매년도'] < 2010]\n",
    "    else:\n",
    "        print(\"o 또는 x로 답변해주세요 :)\")\n",
    "\n",
    "    upper_60 = year_df['좋아요 수'].quantile(0.6) # 60% 지점 \n",
    "    lower_40 = year_df['좋아요 수'].quantile(0.4) # 40% 지점\n",
    "\n",
    "    if likes_input == 'o':\n",
    "        likes_df = year_df[year_df['좋아요 수'] >= upper_60]\n",
    "    elif likes_input == 'x':\n",
    "        likes_df = year_df[year_df['좋아요 수'] <= lower_40]\n",
    "    else:\n",
    "        print(\"o 또는 x로 답변해주세요 :)\")\n",
    "    \n",
    "    if likes_df.empty:\n",
    "        print(\"취향에 맞는 곡이 없습니다ㅠㅠ\")\n",
    "    else: \n",
    "        sim_indices, sim_tags = similar_things(filtered_diary_tags, likes_df['tags'].tolist(), word2vec_songs, 15)\n",
    "        return likes_df.iloc[sim_indices,[0,1,8]]\n",
    "\n",
    "print(filtering(genre_input, likes_input, release_input))\n"
   ]
  }
 ],
 "metadata": {
  "kernelspec": {
   "display_name": "Python 3",
   "language": "python",
   "name": "python3"
  },
  "language_info": {
   "codemirror_mode": {
    "name": "ipython",
    "version": 3
   },
   "file_extension": ".py",
   "mimetype": "text/x-python",
   "name": "python",
   "nbconvert_exporter": "python",
   "pygments_lexer": "ipython3",
   "version": "3.11.9"
  }
 },
 "nbformat": 4,
 "nbformat_minor": 2
}
