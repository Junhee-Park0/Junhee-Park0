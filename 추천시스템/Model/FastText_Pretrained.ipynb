{
 "cells": [
  {
   "cell_type": "code",
   "execution_count": 3,
   "metadata": {},
   "outputs": [],
   "source": [
    "# ! pip install pandas \n",
    "# ! pip install numpy\n",
    "# ! pip install gensim.models"
   ]
  },
  {
   "cell_type": "code",
   "execution_count": 1,
   "metadata": {},
   "outputs": [],
   "source": [
    "import pandas as pd\n",
    "import pandas as pd\n",
    "import numpy as np\n",
    "from gensim.models import Word2Vec\n",
    "from gensim import models\n",
    "from gensim.models import KeyedVectors\n",
    "import ast\n",
    "import re\n",
    "import pickle\n",
    "\n",
    "# 코사인 유사도\n",
    "import numpy as np\n",
    "from numpy import dot\n",
    "from numpy.linalg import norm\n",
    "\n",
    "# 유사 태그 출력\n",
    "from heapq import nlargest\n",
    "from heapq import nsmallest\n",
    "\n",
    "# # 모델에 없는 단어들 형태소 분석 \n",
    "# from konlpy.tag import Okt\n",
    "# from konlpy.utils import pprint\n",
    "# okt = Okt()"
   ]
  },
  {
   "cell_type": "markdown",
   "metadata": {},
   "source": [
    "#### DATA"
   ]
  },
  {
   "cell_type": "code",
   "execution_count": 2,
   "metadata": {},
   "outputs": [],
   "source": [
    "# 데이터 받아오기 \n",
    "chart_tag = pd.read_pickle(\"C:/Users/SAMSUNG/Desktop/KUBIG/2024 Fall/추천시스템/Mine/DATA/chart.pickle\")\n",
    "genre_tag = pd.read_pickle(\"C:/Users/SAMSUNG/Desktop/KUBIG/2024 Fall/추천시스템/Mine/DATA/genre.pickle\")\n",
    "playlist_tag = pd.read_pickle(\"C:/Users/SAMSUNG/Desktop/KUBIG/2024 Fall/추천시스템/Mine/DATA/playlist.pickle\")\n",
    "id = pd.read_pickle(\"C:/Users/SAMSUNG/Desktop/KUBIG/2024 Fall/추천시스템/Mine/DATA/playlist_id.pkl\")\n",
    "\n",
    "model_path = \"C:/Users/SAMSUNG/Desktop/KUBIG/2024 Fall/추천시스템/Model/cc.ko.300.vec\""
   ]
  },
  {
   "cell_type": "code",
   "execution_count": 3,
   "metadata": {},
   "outputs": [],
   "source": [
    "# 전처리\n",
    "playlist_tag.rename(columns = {'발매일':'발매년도', '좋아요':'좋아요 수'}, inplace = True)\n",
    "\n",
    "chart_tag2 = chart_tag.drop('연도', axis = 1)\n",
    "playlist_tag2 = playlist_tag.drop('플리', axis = 1)\n",
    "songs_tag = pd.concat([chart_tag2, genre_tag, playlist_tag2])"
   ]
  },
  {
   "cell_type": "code",
   "execution_count": 4,
   "metadata": {},
   "outputs": [],
   "source": [
    "# 합치기! \n",
    "\n",
    "songs_tag = songs_tag[songs_tag['발매년도'] != '-']\n",
    "songs_tag.loc[:, '발매년도'] = songs_tag['발매년도'].apply(lambda x: str(x)[:4] if len(str(x)) > 4 else str(x))\n",
    "songs_tag.loc[:, '좋아요 수'] = songs_tag['좋아요 수'].apply(lambda x: int(str(x).replace(',','')))\n",
    "songs_tag = songs_tag.astype({'발매년도':'int32', '좋아요 수':'int32'})\n",
    "songs_tag = songs_tag.drop_duplicates(['제목','가수'], keep = 'first')"
   ]
  },
  {
   "cell_type": "code",
   "execution_count": 5,
   "metadata": {},
   "outputs": [
    {
     "data": {
      "text/plain": [
       "[['여름', '더워', '시원', '청량', '플리', '케이팝', 'kpop', '키오프'],\n",
       " ['팝송', '케이팝', '매장', '카페', '식당', '브금', '노래', '휴식', '신나는', '일']]"
      ]
     },
     "execution_count": 5,
     "metadata": {},
     "output_type": "execute_result"
    }
   ],
   "source": [
    "# 태그 전처리 \n",
    "hashtags = id.copy()\n",
    "\n",
    "# 해시태그 없는 플레이리스트 제외\n",
    "hashtags = hashtags[hashtags['tag'].str.contains(\"#\")]\n",
    "# 리스트로 전부 가져오기\n",
    "only_tags = hashtags['tag'].tolist()\n",
    "# \"#\" 제거하기\n",
    "tags_fin  = []\n",
    "for tag in only_tags:\n",
    "  tags_fin.append(re.sub(r\"[#\\[\\]\\'\\,]\",\"\",tag).split())\n",
    "tags_fin[:2]"
   ]
  },
  {
   "cell_type": "markdown",
   "metadata": {},
   "source": [
    "트랙 1) 일기 태그와 유사한 플리 찾아서 출력\n",
    "\n",
    "트랙 2) 일기 태그와 가사 태그가 유사한 노래들\n",
    "\n",
    "음악 취향 입력\n",
    "일기 태그, 가사 태그 각각"
   ]
  },
  {
   "cell_type": "markdown",
   "metadata": {},
   "source": [
    "#### 시도 2 - fasttext, OOV 반영"
   ]
  },
  {
   "cell_type": "markdown",
   "metadata": {},
   "source": [
    "트랙 1 결과물 - filtered_hashtag \n",
    "- 모델에 없는 태그 제거 "
   ]
  },
  {
   "cell_type": "markdown",
   "metadata": {},
   "source": [
    "##### 트랙 1) 플리 태그 기반 플리 찾기"
   ]
  },
  {
   "cell_type": "code",
   "execution_count": 13,
   "metadata": {},
   "outputs": [],
   "source": [
    "# 사전학습 모델 로드 \n",
    "fasttext = KeyedVectors.load_word2vec_format(\n",
    "    model_path,\n",
    "    binary=False,  # 텍스트 형식이므로 False\n",
    "    encoding='utf-8',  # UTF-8 인코딩으로 로드\n",
    "    unicode_errors='ignore'  # 디코딩 에러 무시\n",
    ")"
   ]
  },
  {
   "cell_type": "code",
   "execution_count": 14,
   "metadata": {},
   "outputs": [],
   "source": [
    "# 기존 tags_fin 중에 모델에 없는 거는 제거\n",
    "def delete_missing_tags(tags_list):\n",
    "    filtered_tags = []\n",
    "    for tag in tags_list:\n",
    "        filtered_list = [word for word in tag if word in fasttext]\n",
    "        filtered_tags.append(filtered_list)\n",
    "    return filtered_tags"
   ]
  },
  {
   "cell_type": "code",
   "execution_count": 15,
   "metadata": {},
   "outputs": [
    {
     "name": "stdout",
     "output_type": "stream",
     "text": [
      "1\n"
     ]
    }
   ],
   "source": [
    "# 기존 해시태그에서 모델에 없는 단어 제외\n",
    "filtered_hashtag = delete_missing_tags(tags_fin)\n",
    "\n",
    "# 혹시 전부 제거된 것이 있는지... -> 하나 있음...\n",
    "n = 0\n",
    "for tag in filtered_hashtag:\n",
    "    if len(tag) == 0:\n",
    "        n += 1\n",
    "print(n)"
   ]
  },
  {
   "cell_type": "code",
   "execution_count": 16,
   "metadata": {},
   "outputs": [],
   "source": [
    "# 모델에 있는 단어들만 남겨서 다시 플리 이름이랑 묶어 \n",
    "id_filtered = hashtags.copy()\n",
    "id_filtered['tag'] = filtered_hashtag"
   ]
  },
  {
   "cell_type": "code",
   "execution_count": 17,
   "metadata": {},
   "outputs": [
    {
     "name": "stderr",
     "output_type": "stream",
     "text": [
      "C:\\Users\\SAMSUNG\\AppData\\Local\\Packages\\PythonSoftwareFoundation.Python.3.11_qbz5n2kfra8p0\\LocalCache\\local-packages\\Python311\\site-packages\\gensim\\models\\keyedvectors.py:849: RuntimeWarning: invalid value encountered in divide\n",
      "  dists = dot(self.vectors[clip_start:clip_end], mean) / self.norms[clip_start:clip_end]\n"
     ]
    },
    {
     "data": {
      "text/plain": [
       "[('웬수야', 0.6226855516433716),\n",
       " ('외쳐요', 0.5236533284187317),\n",
       " ('사랑하고', 0.5222238302230835),\n",
       " ('미안하다', 0.5081436634063721),\n",
       " ('사랑해줘', 0.5054067969322205)]"
      ]
     },
     "execution_count": 17,
     "metadata": {},
     "output_type": "execute_result"
    }
   ],
   "source": [
    "fasttext.most_similar(\"사랑한다\", topn = 5)"
   ]
  },
  {
   "cell_type": "markdown",
   "metadata": {},
   "source": [
    "엥........ 모델 상태 왜이래,, 유사 단어 찾기 포기..... ㅠㅠ"
   ]
  },
  {
   "cell_type": "code",
   "execution_count": 18,
   "metadata": {},
   "outputs": [
    {
     "name": "stdout",
     "output_type": "stream",
     "text": [
      "994\n"
     ]
    },
    {
     "data": {
      "text/html": [
       "<div>\n",
       "<style scoped>\n",
       "    .dataframe tbody tr th:only-of-type {\n",
       "        vertical-align: middle;\n",
       "    }\n",
       "\n",
       "    .dataframe tbody tr th {\n",
       "        vertical-align: top;\n",
       "    }\n",
       "\n",
       "    .dataframe thead th {\n",
       "        text-align: right;\n",
       "    }\n",
       "</style>\n",
       "<table border=\"1\" class=\"dataframe\">\n",
       "  <thead>\n",
       "    <tr style=\"text-align: right;\">\n",
       "      <th></th>\n",
       "      <th>name</th>\n",
       "      <th>tag</th>\n",
       "      <th>id</th>\n",
       "    </tr>\n",
       "  </thead>\n",
       "  <tbody>\n",
       "    <tr>\n",
       "      <th>0</th>\n",
       "      <td>bg_1</td>\n",
       "      <td>[여름, 더워, 시원, 청량, 플리, 케이팝, kpop]</td>\n",
       "      <td>1</td>\n",
       "    </tr>\n",
       "    <tr>\n",
       "      <th>1</th>\n",
       "      <td>bg_2</td>\n",
       "      <td>[팝송, 케이팝, 매장, 카페, 식당, 브금, 노래, 휴식, 신나는, 일]</td>\n",
       "      <td>2</td>\n",
       "    </tr>\n",
       "    <tr>\n",
       "      <th>2</th>\n",
       "      <td>bg_3</td>\n",
       "      <td>[아침, 나른, 팝송, 플리, 노래, 산책, 침대, 잔잔, 휴식]</td>\n",
       "      <td>3</td>\n",
       "    </tr>\n",
       "  </tbody>\n",
       "</table>\n",
       "</div>"
      ],
      "text/plain": [
       "   name                                        tag  id\n",
       "0  bg_1            [여름, 더워, 시원, 청량, 플리, 케이팝, kpop]   1\n",
       "1  bg_2  [팝송, 케이팝, 매장, 카페, 식당, 브금, 노래, 휴식, 신나는, 일]   2\n",
       "2  bg_3       [아침, 나른, 팝송, 플리, 노래, 산책, 침대, 잔잔, 휴식]   3"
      ]
     },
     "execution_count": 18,
     "metadata": {},
     "output_type": "execute_result"
    }
   ],
   "source": [
    "# 남은 태그가 하나라면 제거\n",
    "id_filtered = id_filtered[id_filtered['tag'].apply(lambda x: len(x) > 2)]\n",
    "print(len(id_filtered))\n",
    "# 1024 -> 994 로 줄어듦 \n",
    "id_filtered.head(3)"
   ]
  },
  {
   "cell_type": "code",
   "execution_count": 19,
   "metadata": {},
   "outputs": [],
   "source": [
    "# 기존 태그 임베딩, 벡터 평균 함수 \n",
    "def vector_and_average(input_lists):\n",
    "    avg_vectors = []\n",
    "    for list in input_lists:\n",
    "        vectors = [fasttext[word] for word in list]\n",
    "        avg = sum(vectors) / len(vectors)\n",
    "        avg_vectors.append(avg)\n",
    "    return avg_vectors \n",
    "\n",
    "# 새로운 태그 임베딩 함수 \n",
    "def new_tag_vector(input):\n",
    "    vectors = [fasttext[word] for word in input]\n",
    "    avg_vectors = sum(vectors) / len(vectors)\n",
    "    return avg_vectors\n",
    "\n",
    "# 태그 유사도 계산\n",
    "def cos_sim(A, B):\n",
    "    return dot(A, B) / (norm(A) * norm(B))\n",
    "\n",
    "# 가장 유사한 플리 출력 \n",
    "def similar_things(input, original, num): # original : 비교대상 친구들 벡터화하기 전, 단어 형태 \n",
    "    new_vector = new_tag_vector(input)\n",
    "    original_vectors = vector_and_average(original)\n",
    "    # 유사도 계산\n",
    "    similarities = []\n",
    "    for i in range(len(original)):\n",
    "        similarities.append(cos_sim(new_vector, original_vectors[i]))\n",
    "    # 유사 해시태그 \n",
    "    top_index = [idx for idx,_ in nlargest(num, enumerate(similarities), key = lambda x:x[1])]\n",
    "    top_tags = [original[idx] for idx in top_index]\n",
    "    return top_index, top_tags "
   ]
  },
  {
   "cell_type": "code",
   "execution_count": 21,
   "metadata": {},
   "outputs": [
    {
     "data": {
      "text/plain": [
       "([161, 657, 710],\n",
       " [['여름', '남자아이돌', '댄스', '드라이브', '신나는', '기분전환', '스트레스', '운동', '새벽', '바다'],\n",
       "  ['퇴폐적인', '감각적인', '술', '밤', '저녁', '새벽', '라운지', '칵테일', 'bar', '기분전환'],\n",
       "  ['가을', '감성', '플리', '기타', '인디', '발라드']])"
      ]
     },
     "execution_count": 21,
     "metadata": {},
     "output_type": "execute_result"
    }
   ],
   "source": [
    "# testing\n",
    "new_tag = ['신남', '댄스', '드라이브', '여름', '더워', '흥분']\n",
    "\n",
    "similar_things(new_tag, id_filtered['tag'], 3)"
   ]
  },
  {
   "cell_type": "markdown",
   "metadata": {},
   "source": [
    "##### 트랙 2) 음악 취향 필터링, 가사 태그 기반 노래 찾기"
   ]
  },
  {
   "cell_type": "markdown",
   "metadata": {},
   "source": [
    "결과물 - filtered_songs_nona"
   ]
  },
  {
   "cell_type": "code",
   "execution_count": 22,
   "metadata": {},
   "outputs": [],
   "source": [
    "# 키워드, 감정 없는 행 제거 (NaN 제거)\n",
    "songs_tag_nona = songs_tag[~songs_tag['키워드'].isna()]"
   ]
  },
  {
   "cell_type": "code",
   "execution_count": 23,
   "metadata": {},
   "outputs": [],
   "source": [
    "# 모델에 없는 단어 제외\n",
    "keywords = songs_tag_nona.iloc[:,6].tolist()\n",
    "feelings = songs_tag_nona.iloc[:,7].tolist()\n",
    "\n",
    "filtered_keywords = delete_missing_tags(keywords)\n",
    "filtered_feelings = delete_missing_tags(feelings)"
   ]
  },
  {
   "cell_type": "code",
   "execution_count": 24,
   "metadata": {},
   "outputs": [
    {
     "name": "stdout",
     "output_type": "stream",
     "text": [
      "315\n",
      "39\n"
     ]
    }
   ],
   "source": [
    "# 전부 다 없어진 애들이 존재하나? \n",
    "n = 0\n",
    "for tag in filtered_keywords:\n",
    "    if len(tag) == 0:\n",
    "        n += 1\n",
    "print(n)\n",
    "\n",
    "n = 0\n",
    "for tag in filtered_feelings:\n",
    "    if len(tag) == 0:\n",
    "        n += 1\n",
    "print(n)     "
   ]
  },
  {
   "cell_type": "markdown",
   "metadata": {},
   "source": [
    "어어.... 싹 지워져버린 게 좀 있다만..... 어쩔 수 없지 뭐 일단 진행해야지..."
   ]
  },
  {
   "cell_type": "code",
   "execution_count": 25,
   "metadata": {},
   "outputs": [],
   "source": [
    "filtered_songs = songs_tag_nona.copy()\n",
    "filtered_songs['키워드'] = filtered_keywords\n",
    "filtered_songs['감정'] = filtered_feelings\n",
    "\n",
    "# 키워드, 감정 합쳐서 tags 정의\n",
    "filtered_songs['tags'] = filtered_songs['키워드'] + filtered_songs['감정']"
   ]
  },
  {
   "cell_type": "code",
   "execution_count": 26,
   "metadata": {},
   "outputs": [
    {
     "name": "stdout",
     "output_type": "stream",
     "text": [
      "24083\n"
     ]
    },
    {
     "data": {
      "text/html": [
       "<div>\n",
       "<style scoped>\n",
       "    .dataframe tbody tr th:only-of-type {\n",
       "        vertical-align: middle;\n",
       "    }\n",
       "\n",
       "    .dataframe tbody tr th {\n",
       "        vertical-align: top;\n",
       "    }\n",
       "\n",
       "    .dataframe thead th {\n",
       "        text-align: right;\n",
       "    }\n",
       "</style>\n",
       "<table border=\"1\" class=\"dataframe\">\n",
       "  <thead>\n",
       "    <tr style=\"text-align: right;\">\n",
       "      <th></th>\n",
       "      <th>제목</th>\n",
       "      <th>가수</th>\n",
       "      <th>가사</th>\n",
       "      <th>발매년도</th>\n",
       "      <th>장르</th>\n",
       "      <th>좋아요 수</th>\n",
       "      <th>키워드</th>\n",
       "      <th>감정</th>\n",
       "      <th>tags</th>\n",
       "    </tr>\n",
       "  </thead>\n",
       "  <tbody>\n",
       "    <tr>\n",
       "      <th>0</th>\n",
       "      <td>I Don't Think That I Like Her</td>\n",
       "      <td>Charlie Puth</td>\n",
       "      <td>Get her name and get her number Find out all o...</td>\n",
       "      <td>2022</td>\n",
       "      <td>POP</td>\n",
       "      <td>214990</td>\n",
       "      <td>[그녀, 마음, 별]</td>\n",
       "      <td>[슬픔, 후회, 실망]</td>\n",
       "      <td>[그녀, 마음, 별, 슬픔, 후회, 실망]</td>\n",
       "    </tr>\n",
       "    <tr>\n",
       "      <th>1</th>\n",
       "      <td>Dangerously</td>\n",
       "      <td>Charlie Puth</td>\n",
       "      <td>This is gonna hurt but I blame myself first ca...</td>\n",
       "      <td>2016</td>\n",
       "      <td>POP</td>\n",
       "      <td>217897</td>\n",
       "      <td>[위험, 사랑, 진실]</td>\n",
       "      <td>[슬픔, 후회, 집착]</td>\n",
       "      <td>[위험, 사랑, 진실, 슬픔, 후회, 집착]</td>\n",
       "    </tr>\n",
       "    <tr>\n",
       "      <th>2</th>\n",
       "      <td>STAY</td>\n",
       "      <td>The Kid LAROI, Justin Bieber</td>\n",
       "      <td>I do the same thing I told you that I never wo...</td>\n",
       "      <td>2021</td>\n",
       "      <td>POP</td>\n",
       "      <td>293599</td>\n",
       "      <td>[당신, 변화, 머무름]</td>\n",
       "      <td>[그리움, 후회, 불안]</td>\n",
       "      <td>[당신, 변화, 머무름, 그리움, 후회, 불안]</td>\n",
       "    </tr>\n",
       "  </tbody>\n",
       "</table>\n",
       "</div>"
      ],
      "text/plain": [
       "                              제목                            가수   \n",
       "0  I Don't Think That I Like Her                  Charlie Puth  \\\n",
       "1                    Dangerously                  Charlie Puth   \n",
       "2                           STAY  The Kid LAROI, Justin Bieber   \n",
       "\n",
       "                                                  가사  발매년도   장르   좋아요 수   \n",
       "0  Get her name and get her number Find out all o...  2022  POP  214990  \\\n",
       "1  This is gonna hurt but I blame myself first ca...  2016  POP  217897   \n",
       "2  I do the same thing I told you that I never wo...  2021  POP  293599   \n",
       "\n",
       "             키워드             감정                        tags  \n",
       "0    [그녀, 마음, 별]   [슬픔, 후회, 실망]     [그녀, 마음, 별, 슬픔, 후회, 실망]  \n",
       "1   [위험, 사랑, 진실]   [슬픔, 후회, 집착]    [위험, 사랑, 진실, 슬픔, 후회, 집착]  \n",
       "2  [당신, 변화, 머무름]  [그리움, 후회, 불안]  [당신, 변화, 머무름, 그리움, 후회, 불안]  "
      ]
     },
     "execution_count": 26,
     "metadata": {},
     "output_type": "execute_result"
    }
   ],
   "source": [
    "# 싹 지워져버린 친구들 제외\n",
    "filtered_songs_nona = filtered_songs[filtered_songs.iloc[:,8].apply(lambda x: len(x) != 0)]\n",
    "print(len(filtered_songs_nona))\n",
    "filtered_songs_nona.head(3)"
   ]
  },
  {
   "cell_type": "markdown",
   "metadata": {},
   "source": [
    "### 최종 !!!"
   ]
  },
  {
   "cell_type": "code",
   "execution_count": 27,
   "metadata": {},
   "outputs": [
    {
     "name": "stdout",
     "output_type": "stream",
     "text": [
      "['기대', '꿈', '아쉬움', '행복', '방학', '절반', '신나', '공부']\n"
     ]
    }
   ],
   "source": [
    "#### 일기 태그 ####\n",
    "\n",
    "# ! pip install openai\n",
    "# ! pip install python-dotenv\n",
    "\n",
    "import os\n",
    "from openai import OpenAI\n",
    "from dotenv import load_dotenv\n",
    "import ast\n",
    "\n",
    "# API \n",
    "def get_api():\n",
    "    load_dotenv()\n",
    "    OPENAI_API_KEY = os.environ.get(\"OPENAI_API_KEY\")\n",
    "    return OPENAI_API_KEY\n",
    "\n",
    "api = get_api()\n",
    "client = OpenAI(api_key = api)\n",
    "\n",
    "# Keywords\n",
    "def get_keywords(input_text):\n",
    "\n",
    "    prompt = f\"\"\"\n",
    "    You are a helpful asssistant. \n",
    "    Extract **four emotions** and **four keyword** in **Korean** from the following text : {input_text}.\n",
    "    Make sure all the answers are **nouns**.\n",
    "    Follow the given format : \n",
    "    {[\"emotion1\", \"emotion2\", \"emotion3\", \"emotion4\", \"keyword1\", \"keyword2\", \"keyword3\", \"keyword4\"]}\n",
    "    \"\"\"\n",
    "\n",
    "    response = client.chat.completions.create(\n",
    "        model = \"gpt-3.5-turbo\",\n",
    "        messages = [\n",
    "            {\"role\": \"system\", \"content\": \"You are a helpful assistant.\"},\n",
    "            {\"role\": \"user\", \"content\": prompt}\n",
    "        ],\n",
    "        # max_tokens = 50,\n",
    "        # temperature = 0.3\n",
    "    )\n",
    "\n",
    "    keywords = response.choices[0].message.content\n",
    "    return keywords \n",
    "\n",
    "####################################################################################\n",
    "input_text = \"\"\"\n",
    "방학이 벌써 반이나 지나가버렸어. \n",
    "오랫동안 기대하고 꿈꿨던 방학이었는데.. 벌써 반이나 갔다니 너무 아쉬워ㅠㅠ\n",
    "그래도 남은 절반을 신나고 행복하게 즐겨볼 테야!\n",
    "이제 연휴니까 푹 쉬고 열심히 공부도 해야지!\n",
    "\"\"\"\n",
    "#####################################################################################\n",
    "\n",
    "diary_keywords = get_keywords(input_text)\n",
    "\n",
    "diary_tags = ast.literal_eval(diary_keywords)\n",
    "print(diary_tags)"
   ]
  },
  {
   "cell_type": "markdown",
   "metadata": {},
   "source": [
    "#### 시도 2"
   ]
  },
  {
   "cell_type": "code",
   "execution_count": 29,
   "metadata": {},
   "outputs": [
    {
     "data": {
      "text/html": [
       "<div>\n",
       "<style scoped>\n",
       "    .dataframe tbody tr th:only-of-type {\n",
       "        vertical-align: middle;\n",
       "    }\n",
       "\n",
       "    .dataframe tbody tr th {\n",
       "        vertical-align: top;\n",
       "    }\n",
       "\n",
       "    .dataframe thead th {\n",
       "        text-align: right;\n",
       "    }\n",
       "</style>\n",
       "<table border=\"1\" class=\"dataframe\">\n",
       "  <thead>\n",
       "    <tr style=\"text-align: right;\">\n",
       "      <th></th>\n",
       "      <th>name</th>\n",
       "      <th>tag</th>\n",
       "    </tr>\n",
       "  </thead>\n",
       "  <tbody>\n",
       "    <tr>\n",
       "      <th>73</th>\n",
       "      <td>maggul_3</td>\n",
       "      <td>['#꿈', '#희망', '#응원', '#행복', '#용기', '#위로', '#시작...</td>\n",
       "    </tr>\n",
       "    <tr>\n",
       "      <th>367</th>\n",
       "      <td>mamel_3</td>\n",
       "      <td>['#초여름', '#여름', '#뮤직비디오', '#뮤비', '#신나는', '#드라이...</td>\n",
       "    </tr>\n",
       "    <tr>\n",
       "      <th>794</th>\n",
       "      <td>celette_19</td>\n",
       "      <td>['#올드팝', '#낭만', '#사랑', '#휴식', '#여름밤', '#저녁', '...</td>\n",
       "    </tr>\n",
       "    <tr>\n",
       "      <th>934</th>\n",
       "      <td>heartbeat_19</td>\n",
       "      <td>['#위로', '#힘내', '#아이돌', '#케이팝', '#여돌', '#남돌', '...</td>\n",
       "    </tr>\n",
       "    <tr>\n",
       "      <th>176</th>\n",
       "      <td>starrynight_12</td>\n",
       "      <td>['#OST', '#감성', '#서정적', '#설렘', '#생각', '#새벽', '...</td>\n",
       "    </tr>\n",
       "  </tbody>\n",
       "</table>\n",
       "</div>"
      ],
      "text/plain": [
       "               name                                                tag\n",
       "73         maggul_3  ['#꿈', '#희망', '#응원', '#행복', '#용기', '#위로', '#시작...\n",
       "367         mamel_3  ['#초여름', '#여름', '#뮤직비디오', '#뮤비', '#신나는', '#드라이...\n",
       "794      celette_19  ['#올드팝', '#낭만', '#사랑', '#휴식', '#여름밤', '#저녁', '...\n",
       "934    heartbeat_19  ['#위로', '#힘내', '#아이돌', '#케이팝', '#여돌', '#남돌', '...\n",
       "176  starrynight_12  ['#OST', '#감성', '#서정적', '#설렘', '#생각', '#새벽', '..."
      ]
     },
     "execution_count": 29,
     "metadata": {},
     "output_type": "execute_result"
    }
   ],
   "source": [
    "# 트랙 1\n",
    "\n",
    "# 일기 태그와 모델...\n",
    "filtered_diary_tags = [word for word in diary_tags if word in fasttext]\n",
    "\n",
    "# 유사한 플레이리스트\n",
    "idx, _ = similar_things(filtered_diary_tags, id_filtered['tag'],5)\n",
    "id.iloc[idx,[0,1]]"
   ]
  },
  {
   "cell_type": "code",
   "execution_count": 33,
   "metadata": {},
   "outputs": [
    {
     "name": "stdout",
     "output_type": "stream",
     "text": [
      "                                             제목                          가수   \n",
      "3959                            White Christmas              Kelly Clarkson  \\\n",
      "5615                               Come With Me       Surfaces, salem ilese   \n",
      "24963                                        17              Julia Michaels   \n",
      "3960                            Candy Cane Lane                         Sia   \n",
      "7152                 All Night (Feat. Astrid S)           The Vamps, Matoma   \n",
      "9519                      Christmas Without You                     Ava Max   \n",
      "11353                           Straight To You            Stephanie Poetri   \n",
      "1540                                 Lighthouse                 Peder Elias   \n",
      "13884             Shivers (feat. Jessi & SUNMI)  Ed Sheeran, 제시 (Jessi), 선미   \n",
      "6975                                     Hailey               Justin Bieber   \n",
      "7108                                    Skyline                      Khalid   \n",
      "20479  あの夢をなぞって (그 꿈을 덧그리며, Ano Yumewo Nazotte)                     YOASOBI   \n",
      "59                             I Like Me Better                        Lauv   \n",
      "2069                                 Bitterlove             Ardhito Pramono   \n",
      "20780                                 free love                       HONNE   \n",
      "\n",
      "                  키워드  \n",
      "3959           [꿈, 눈]  \n",
      "5615     [여름, 시간, 자유]  \n",
      "24963     [사랑, 꿈, 여름]  \n",
      "3960      [크리스마스, 친구]  \n",
      "7152        [잠, 꿈, 나]  \n",
      "9519   [크리스마스, 당신, 빛]  \n",
      "11353      [꿈, 일, 사랑]  \n",
      "1540     [등대, 사랑, 여름]  \n",
      "13884     [당신, 꿈, 마음]  \n",
      "6975      [꿈, 하늘, 사랑]  \n",
      "7108          [시간, 손]  \n",
      "20479  [여름, 미래, 불꽃놀이]  \n",
      "59        [사랑, 뉴욕, 나]  \n",
      "2069     [사랑, 공간, 기억]  \n",
      "20780      [집, 꿈, 사랑]  \n"
     ]
    }
   ],
   "source": [
    "# 트랙 2\n",
    "\n",
    "# 일기 태그와 모델...\n",
    "filtered_diary_tags = [word for word in diary_tags if word in fasttext]\n",
    "\n",
    "# 사용자 입력\n",
    "genre_input = input(\"어떤 장르의 음악을 좋아하시나요? (예: 힙합, 발라드 등): \")\n",
    "likes_input = input(\"유명한 곡들이 좋으신가요? (o, x로 답해주세요!): \")\n",
    "release_input = input(\"최신 노래를 좋아하시나요? (o, x로 답해주세요!): \")\n",
    "\n",
    "# 취향 필터링 \n",
    "def filtering(genre_input, release_input, likes_input):\n",
    "    # 장르 필터링 \n",
    "    genre_df = filtered_songs_nona[filtered_songs_nona['장르'].str.contains(genre_input)]\n",
    "\n",
    "    # 발매년도 필터링 \n",
    "    if release_input == 'o':\n",
    "        year_df = genre_df[genre_df['발매년도'] >= 2010]\n",
    "    elif release_input == 'x':\n",
    "        year_df = genre_df[genre_df['발매년도'] < 2010]\n",
    "    else:\n",
    "        print(\"o 또는 x로 답변해주세요 :)\")\n",
    "\n",
    "    upper_60 = year_df['좋아요 수'].quantile(0.6) # 60% 지점 \n",
    "    lower_40 = year_df['좋아요 수'].quantile(0.4) # 40% 지점\n",
    "\n",
    "    if likes_input == 'o':\n",
    "        likes_df = year_df[year_df['좋아요 수'] >= upper_60]\n",
    "    elif likes_input == 'x':\n",
    "        likes_df = year_df[year_df['좋아요 수'] <= lower_40]\n",
    "    else:\n",
    "        print(\"o 또는 x로 답변해주세요 :)\")\n",
    "    \n",
    "    if likes_df.empty:\n",
    "        print(\"취향에 맞는 곡이 없습니다ㅠㅠ\")\n",
    "    else: \n",
    "        sim_indices, sim_tags = similar_things(filtered_diary_tags, likes_df['tags'].tolist(), 15)\n",
    "        return likes_df.iloc[sim_indices,[0,1,6]]\n",
    "\n",
    "print(filtering(genre_input, likes_input, release_input))"
   ]
  }
 ],
 "metadata": {
  "kernelspec": {
   "display_name": "Python 3",
   "language": "python",
   "name": "python3"
  },
  "language_info": {
   "codemirror_mode": {
    "name": "ipython",
    "version": 3
   },
   "file_extension": ".py",
   "mimetype": "text/x-python",
   "name": "python",
   "nbconvert_exporter": "python",
   "pygments_lexer": "ipython3",
   "version": "3.11.9"
  }
 },
 "nbformat": 4,
 "nbformat_minor": 2
}
