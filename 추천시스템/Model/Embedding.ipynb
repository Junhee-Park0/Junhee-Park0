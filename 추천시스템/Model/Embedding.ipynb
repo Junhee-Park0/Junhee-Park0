{
 "cells": [
  {
   "cell_type": "code",
   "execution_count": 3,
   "metadata": {},
   "outputs": [],
   "source": [
    "# ! pip install pandas \n",
    "# ! pip install numpy\n",
    "# ! pip install gensim.models"
   ]
  },
  {
   "cell_type": "code",
   "execution_count": 1,
   "metadata": {},
   "outputs": [],
   "source": [
    "import pandas as pd\n",
    "import pandas as pd\n",
    "import numpy as np\n",
    "from gensim.models import Word2Vec\n",
    "from gensim import models\n",
    "from gensim.models import KeyedVectors\n",
    "import ast\n",
    "import re\n",
    "import pickle\n",
    "\n",
    "# 코사인 유사도\n",
    "import numpy as np\n",
    "from numpy import dot\n",
    "from numpy.linalg import norm\n",
    "\n",
    "# 유사 태그 출력\n",
    "from heapq import nlargest\n",
    "from heapq import nsmallest\n",
    "\n",
    "# # 모델에 없는 단어들 형태소 분석 \n",
    "# from konlpy.tag import Okt\n",
    "# from konlpy.utils import pprint\n",
    "# okt = Okt()"
   ]
  },
  {
   "cell_type": "markdown",
   "metadata": {},
   "source": [
    "#### DATA"
   ]
  },
  {
   "cell_type": "code",
   "execution_count": 2,
   "metadata": {},
   "outputs": [],
   "source": [
    "# 데이터 받아오기 \n",
    "chart_tag = pd.read_pickle(\"C:/Users/SAMSUNG/Desktop/KUBIG/2024 Fall/추천시스템/Mine/DATA/chart.pickle\")\n",
    "genre_tag = pd.read_pickle(\"C:/Users/SAMSUNG/Desktop/KUBIG/2024 Fall/추천시스템/Mine/DATA/genre.pickle\")\n",
    "playlist_tag = pd.read_pickle(\"C:/Users/SAMSUNG/Desktop/KUBIG/2024 Fall/추천시스템/Mine/DATA/playlist.pickle\")\n",
    "id = pd.read_pickle(\"C:/Users/SAMSUNG/Desktop/KUBIG/2024 Fall/추천시스템/Mine/DATA/playlist_id.pkl\")\n",
    "\n",
    "model_path = \"C:/Users/SAMSUNG/Desktop/KUBIG/2024 Fall/추천시스템/Model/cc.ko.300.vec\""
   ]
  },
  {
   "cell_type": "code",
   "execution_count": 3,
   "metadata": {},
   "outputs": [],
   "source": [
    "# 전처리\n",
    "playlist_tag.rename(columns = {'발매일':'발매년도', '좋아요':'좋아요 수'}, inplace = True)\n",
    "\n",
    "chart_tag2 = chart_tag.drop('연도', axis = 1)\n",
    "playlist_tag2 = playlist_tag.drop('플리', axis = 1)\n",
    "songs_tag = pd.concat([chart_tag2, genre_tag, playlist_tag2])"
   ]
  },
  {
   "cell_type": "code",
   "execution_count": 6,
   "metadata": {},
   "outputs": [],
   "source": [
    "# 합치기! \n",
    "\n",
    "songs_tag = songs_tag[songs_tag['발매년도'] != '-']\n",
    "songs_tag.loc[:, '발매년도'] = songs_tag['발매년도'].apply(lambda x: str(x)[:4] if len(str(x)) > 4 else str(x))\n",
    "songs_tag.loc[:, '좋아요 수'] = songs_tag['좋아요 수'].apply(lambda x: int(str(x).replace(',','')))\n",
    "songs_tag = songs_tag.astype({'발매년도':'int32', '좋아요 수':'int32'})\n",
    "songs_tag = songs_tag.drop_duplicates(['제목','가수'], keep = 'first')"
   ]
  },
  {
   "cell_type": "code",
   "execution_count": 7,
   "metadata": {},
   "outputs": [
    {
     "data": {
      "text/plain": [
       "[['여름', '더워', '시원', '청량', '플리', '케이팝', 'kpop', '키오프'],\n",
       " ['팝송', '케이팝', '매장', '카페', '식당', '브금', '노래', '휴식', '신나는', '일']]"
      ]
     },
     "execution_count": 7,
     "metadata": {},
     "output_type": "execute_result"
    }
   ],
   "source": [
    "# 태그 전처리 \n",
    "hashtags = id.copy()\n",
    "\n",
    "# 해시태그 없는 플레이리스트 제외\n",
    "hashtags = hashtags[hashtags['tag'].str.contains(\"#\")]\n",
    "# 리스트로 전부 가져오기\n",
    "only_tags = hashtags['tag'].tolist()\n",
    "# \"#\" 제거하기\n",
    "tags_fin  = []\n",
    "for tag in only_tags:\n",
    "  tags_fin.append(re.sub(r\"[#\\[\\]\\'\\,]\",\"\",tag).split())\n",
    "tags_fin[:2]"
   ]
  },
  {
   "cell_type": "markdown",
   "metadata": {},
   "source": [
    "트랙 1) 일기 태그와 유사한 플리 찾아서 출력\n",
    "\n",
    "트랙 2) 일기 태그와 가사 태그가 유사한 노래들\n",
    "\n",
    "음악 취향 입력\n",
    "일기 태그, 가사 태그 각각"
   ]
  },
  {
   "cell_type": "markdown",
   "metadata": {},
   "source": [
    "#### 시도 1 - word2vec, OOV 삭제 "
   ]
  },
  {
   "cell_type": "markdown",
   "metadata": {},
   "source": [
    "##### 트랙 1) 플리 태그 기반 플리 찾기"
   ]
  },
  {
   "cell_type": "code",
   "execution_count": 8,
   "metadata": {},
   "outputs": [
    {
     "name": "stdout",
     "output_type": "stream",
     "text": [
      "이별이랑 비슷: [('추억', 0.9958157539367676), ('우울', 0.9957407712936401), ('야경', 0.9955396056175232), ('잔잔한', 0.9953756332397461), ('새벽', 0.995330274105072), ('카페', 0.9953253865242004), ('인디', 0.9951081871986389), ('세련된', 0.9950740933418274), ('센치한', 0.9950241446495056), ('감성힙합', 0.9949735999107361)]\n",
      "사랑이랑 비슷: [('세련된', 0.9960087537765503), ('발라드', 0.995893657207489), ('감성', 0.995736300945282), ('센치한', 0.9956501722335815), ('겨울', 0.9954304099082947), ('행복', 0.9953859448432922), ('편안한', 0.9953819513320923), ('우울', 0.9953790307044983), ('한강', 0.9953010678291321), ('노래방', 0.9952926635742188)]\n",
      "여름이랑 비슷: [('발라드', 0.9968786239624023), ('청춘', 0.9961419105529785), ('겨울', 0.9959815740585327), ('피크닉', 0.9959700107574463), ('인디', 0.9958917498588562), ('Pop', 0.9958612322807312), ('케이팝', 0.9958339929580688), ('트렌디', 0.9958193302154541), ('설레는', 0.9956774711608887), ('세련된', 0.9956440925598145)]\n"
     ]
    }
   ],
   "source": [
    "# 모델 학습 \n",
    "word2vec_playlist = Word2Vec(sentences = tags_fin, vector_size = 50, window = 3, min_count = 1, sg = 1, workers = 4)\n",
    "\n",
    "# 각 단어와 비슷한 단어 찾기... 성능 체크\n",
    "print(\"이별이랑 비슷:\", word2vec_playlist.wv.most_similar(\"이별\"))\n",
    "print(\"사랑이랑 비슷:\", word2vec_playlist.wv.most_similar(\"사랑\"))\n",
    "print(\"여름이랑 비슷:\", word2vec_playlist.wv.most_similar(\"여름\"))"
   ]
  },
  {
   "cell_type": "markdown",
   "metadata": {},
   "source": [
    "###### 성능이 엄청 막 좋아보이지는 않...아"
   ]
  },
  {
   "cell_type": "code",
   "execution_count": 9,
   "metadata": {},
   "outputs": [],
   "source": [
    "# 기존 태그 임베딩, 벡터 평균 함수 \n",
    "def vector_and_average(input_lists, model):\n",
    "  avg_vectors = []\n",
    "  for list in input_lists:\n",
    "    vectors = [model.wv[word] for word in list]\n",
    "    avg = sum(vectors) / len(vectors)\n",
    "    avg_vectors.append(avg)\n",
    "  return avg_vectors\n",
    "\n",
    "# 새로운 입력 - 모델에 있는 단어들만을 가지고 평균 벡터 생성\n",
    "def new_tag_vector(tag, model):\n",
    "  tag_vector = []\n",
    "  for word in tag:\n",
    "    if word in model.wv:\n",
    "      tag_vector.append(model.wv[word])\n",
    "    else:\n",
    "      print(f\"{word} 단어는 모델에 없습니다..\")\n",
    "\n",
    "  avg_vector = sum(tag_vector)/len(tag_vector)\n",
    "  return avg_vector\n",
    "\n",
    "# 코사인 유사도 함수\n",
    "def cos_sim(A, B):\n",
    "  return dot(A, B)/(norm(A)*norm(B))\n",
    "\n",
    "# 유사 해시태그 출력 함수\n",
    "def similar_things(new_input, original_tags, model, num):\n",
    "  new_vector = new_tag_vector(new_input, model)\n",
    "  original_vectors = vector_and_average(original_tags, model)\n",
    "  # 유사도 계산\n",
    "  similarities = []\n",
    "  for i in range(len(original_tags)):\n",
    "    similarities.append(cos_sim(new_vector, original_vectors[i]))\n",
    "  # 유사 해시태그 출력\n",
    "  top_index = [idx for idx,_ in nlargest(num, enumerate(similarities), key = lambda x:x[1])] # enumerate 에서 두 번째 요소(유사도) 기준\n",
    "  top_tags = [original_tags[idx] for idx in top_index] # 유사한 \"태그\"\n",
    "  # print(top_index) # 유사한 \"플리 index\"\n",
    "  return top_index, top_tags"
   ]
  },
  {
   "cell_type": "code",
   "execution_count": 10,
   "metadata": {},
   "outputs": [
    {
     "name": "stdout",
     "output_type": "stream",
     "text": [
      "첫 해시태그의 벡터화 : \n",
      " [ 0.04174288 -0.07175546  0.03454174  0.03228088 -0.03121519 -0.15712497\n",
      "  0.15373649  0.20935765 -0.22676413 -0.11801913  0.02619883 -0.1937085\n",
      "  0.15632737  0.0937292  -0.03358329  0.11670556  0.06203141  0.01118164\n",
      " -0.25351626 -0.10508794  0.01724208  0.14439414  0.24781309 -0.06193255\n",
      "  0.15933226  0.00472437 -0.10877293  0.05716702 -0.16969669  0.0780718\n",
      "  0.01862974 -0.07770737 -0.01380573 -0.06982583 -0.15681936  0.1373198\n",
      "  0.12205312 -0.02337974  0.02634025 -0.01653233  0.19973798 -0.01456144\n",
      " -0.01904519 -0.00472036  0.31496435  0.01789968 -0.11823456 -0.0732379\n",
      "  0.07841399  0.13612808]\n"
     ]
    }
   ],
   "source": [
    "# 기존 해시태그들 벡터화, 평균 계산\n",
    "tags_vector = []\n",
    "for tag in tags_fin:\n",
    "  tags_vector.append(new_tag_vector(tag, word2vec_playlist))\n",
    "\n",
    "print(f\"첫 해시태그의 벡터화 : \\n {tags_vector[0]}\")\n",
    "\n",
    "# 새로운 태그에 대한 평균 벡터 생성\n",
    "new_tag = ['겨울', '사랑', '눈', '몽글몽글몽글몽글']\n",
    "new_vector = new_tag_vector(new_tag, word2vec_playlist)\n",
    "\n",
    "# 새로운 input과 유사한 애들\n",
    "sim = similar_things(['신남', '댄스', '드라이브', '여름', '더워', '흥분'], tags_fin, word2vec_playlist, 5)\n",
    "sim[0]"
   ]
  },
  {
   "cell_type": "code",
   "execution_count": 13,
   "metadata": {},
   "outputs": [
    {
     "data": {
      "text/html": [
       "<div>\n",
       "<style scoped>\n",
       "    .dataframe tbody tr th:only-of-type {\n",
       "        vertical-align: middle;\n",
       "    }\n",
       "\n",
       "    .dataframe tbody tr th {\n",
       "        vertical-align: top;\n",
       "    }\n",
       "\n",
       "    .dataframe thead th {\n",
       "        text-align: right;\n",
       "    }\n",
       "</style>\n",
       "<table border=\"1\" class=\"dataframe\">\n",
       "  <thead>\n",
       "    <tr style=\"text-align: right;\">\n",
       "      <th></th>\n",
       "      <th>name</th>\n",
       "      <th>tag</th>\n",
       "      <th>id</th>\n",
       "    </tr>\n",
       "  </thead>\n",
       "  <tbody>\n",
       "    <tr>\n",
       "      <th>301</th>\n",
       "      <td>output_17</td>\n",
       "      <td>['#여름', '#신나는', '#팝', '#댄스', '#하우스', '#드라이브']</td>\n",
       "      <td>302</td>\n",
       "    </tr>\n",
       "    <tr>\n",
       "      <th>728</th>\n",
       "      <td>ozu_4</td>\n",
       "      <td>['#인디', '#위로', '#힘들때', '#우울', '#지친일상', '#하루의끝']</td>\n",
       "      <td>729</td>\n",
       "    </tr>\n",
       "    <tr>\n",
       "      <th>161</th>\n",
       "      <td>moonsound_14</td>\n",
       "      <td>['#여름', '#남자아이돌', '#댄스', '#드라이브', '#신나는', '#기분...</td>\n",
       "      <td>162</td>\n",
       "    </tr>\n",
       "    <tr>\n",
       "      <th>813</th>\n",
       "      <td>shorthair_18</td>\n",
       "      <td>['#감성', '#추억', '#지하철', '#가사', '#보고싶다', '#사랑', ...</td>\n",
       "      <td>814</td>\n",
       "    </tr>\n",
       "    <tr>\n",
       "      <th>816</th>\n",
       "      <td>jjinmak_1</td>\n",
       "      <td>['#응원', '#기분전환', '#위로', '#희망', '#힐링', '#휴식', '...</td>\n",
       "      <td>817</td>\n",
       "    </tr>\n",
       "  </tbody>\n",
       "</table>\n",
       "</div>"
      ],
      "text/plain": [
       "             name                                                tag   id\n",
       "301     output_17      ['#여름', '#신나는', '#팝', '#댄스', '#하우스', '#드라이브']  302\n",
       "728         ozu_4    ['#인디', '#위로', '#힘들때', '#우울', '#지친일상', '#하루의끝']  729\n",
       "161  moonsound_14  ['#여름', '#남자아이돌', '#댄스', '#드라이브', '#신나는', '#기분...  162\n",
       "813  shorthair_18  ['#감성', '#추억', '#지하철', '#가사', '#보고싶다', '#사랑', ...  814\n",
       "816     jjinmak_1  ['#응원', '#기분전환', '#위로', '#희망', '#힐링', '#휴식', '...  817"
      ]
     },
     "execution_count": 13,
     "metadata": {},
     "output_type": "execute_result"
    }
   ],
   "source": [
    "# 추천 플레이리스트와 해시태그 \n",
    "id.iloc[sim[0]]"
   ]
  },
  {
   "cell_type": "markdown",
   "metadata": {},
   "source": [
    "#### 트랙 2) 음악 취향 필터링, 가사 태그 기반 노래 찾기 "
   ]
  },
  {
   "cell_type": "code",
   "execution_count": 17,
   "metadata": {},
   "outputs": [],
   "source": [
    "# 결측치 제거 \n",
    "songs_tag_nona = songs_tag[~songs_tag['키워드'].isna()].copy()\n",
    "\n",
    "# 키워드 + 감정 \n",
    "songs_tag_nona['tags'] = songs_tag_nona['키워드'] + songs_tag_nona['감정']\n",
    "\n",
    "songs_tags = songs_tag_nona['tags'].tolist()"
   ]
  },
  {
   "cell_type": "code",
   "execution_count": 18,
   "metadata": {},
   "outputs": [
    {
     "name": "stdout",
     "output_type": "stream",
     "text": [
      "이별이랑 비슷: [('미련', 0.9972637891769409), ('눈물', 0.9962788820266724), ('허전함', 0.9951195120811462), ('아픔', 0.9931573271751404), ('헤어짐', 0.9928607940673828), ('후회', 0.9917554259300232), ('미안함', 0.9916582107543945), ('기억', 0.9906187057495117), ('비', 0.9873484969139099), ('미움', 0.9871535301208496)]\n",
      "사랑이랑 비슷: [('우리', 0.9880443811416626), ('고백', 0.9850354194641113), ('영원', 0.9833611249923706), ('마음', 0.9817531704902649), ('기다림', 0.9812990427017212), ('당신', 0.9811688661575317), ('봄', 0.9762729406356812), ('시간', 0.976241409778595), ('포근함', 0.9761999845504761), ('약속', 0.9751516580581665)]\n",
      "여름이랑 비슷: [('바다', 0.9967312812805176), ('하늘', 0.9942096471786499), ('크리스마스', 0.9890195727348328), ('감동', 0.9886176586151123), ('안락함', 0.9876447916030884), ('따뜻함', 0.9874204993247986), ('선물', 0.9872896671295166), ('안정', 0.987001359462738), ('기대', 0.9862778186798096), ('햇살', 0.9862753748893738)]\n"
     ]
    }
   ],
   "source": [
    "# 모델 학습 \n",
    "word2vec_songs = Word2Vec(sentences = songs_tags, vector_size = 100, window = 4, min_count = 1, workers = 4)\n",
    "\n",
    "print(\"이별이랑 비슷:\", word2vec_songs.wv.most_similar(\"이별\"))\n",
    "print(\"사랑이랑 비슷:\", word2vec_songs.wv.most_similar(\"사랑\"))\n",
    "print(\"여름이랑 비슷:\", word2vec_songs.wv.most_similar(\"여름\"))"
   ]
  },
  {
   "cell_type": "code",
   "execution_count": null,
   "metadata": {},
   "outputs": [
    {
     "data": {
      "text/plain": [
       "24088"
      ]
     },
     "execution_count": 19,
     "metadata": {},
     "output_type": "execute_result"
    }
   ],
   "source": [
    "# 기존 태그 벡터화 \n",
    "original_vectors = vector_and_average(songs_tags, word2vec_songs)\n",
    "\n",
    "print(len(original_vectors)) \n",
    "\n",
    "# 새로운 태그 벡터화 \n",
    "idx, tag = similar_things(new_tag, songs_tags, word2vec_songs, 2)\n",
    "songs_tag_nona.iloc[idx,:]"
   ]
  },
  {
   "cell_type": "markdown",
   "metadata": {},
   "source": [
    "#### 시도 2 - fasttext, OOV 반영"
   ]
  },
  {
   "cell_type": "markdown",
   "metadata": {},
   "source": [
    "트랙 1 결과물 - filtered_hashtag \n",
    "- 모델에 없는 태그 제거 "
   ]
  },
  {
   "cell_type": "markdown",
   "metadata": {},
   "source": [
    "##### 트랙 1) 플리 태그 기반 플리 찾기"
   ]
  },
  {
   "cell_type": "code",
   "execution_count": 10,
   "metadata": {},
   "outputs": [],
   "source": [
    "# 사전학습 모델 로드 \n",
    "fasttext = KeyedVectors.load_word2vec_format(\n",
    "    model_path,\n",
    "    binary=False,  # 텍스트 형식이므로 False\n",
    "    encoding='utf-8',  # UTF-8 인코딩으로 로드\n",
    "    unicode_errors='ignore'  # 디코딩 에러 무시\n",
    ")"
   ]
  },
  {
   "cell_type": "code",
   "execution_count": 11,
   "metadata": {},
   "outputs": [],
   "source": [
    "# 기존 tags_fin 중에 모델에 없는 거는 제거\n",
    "def delete_missing_tags(tags_list):\n",
    "    filtered_tags = []\n",
    "    for tag in tags_list:\n",
    "        filtered_list = [word for word in tag if word in fasttext]\n",
    "        filtered_tags.append(filtered_list)\n",
    "    return filtered_tags"
   ]
  },
  {
   "cell_type": "code",
   "execution_count": 12,
   "metadata": {},
   "outputs": [
    {
     "name": "stdout",
     "output_type": "stream",
     "text": [
      "1\n"
     ]
    }
   ],
   "source": [
    "# 기존 해시태그에서 모델에 없는 단어 제외\n",
    "filtered_hashtag = delete_missing_tags(tags_fin)\n",
    "\n",
    "# 혹시 전부 제거된 것이 있는지... -> 하나 있음...\n",
    "n = 0\n",
    "for tag in filtered_hashtag:\n",
    "    if len(tag) == 0:\n",
    "        n += 1\n",
    "print(n)"
   ]
  },
  {
   "cell_type": "code",
   "execution_count": 13,
   "metadata": {},
   "outputs": [],
   "source": [
    "# 모델에 있는 단어들만 남겨서 다시 플리 이름이랑 묶어 \n",
    "id_filtered = hashtags.copy()\n",
    "id_filtered['tag'] = filtered_hashtag"
   ]
  },
  {
   "cell_type": "code",
   "execution_count": 14,
   "metadata": {},
   "outputs": [
    {
     "name": "stderr",
     "output_type": "stream",
     "text": [
      "C:\\Users\\SAMSUNG\\AppData\\Local\\Packages\\PythonSoftwareFoundation.Python.3.11_qbz5n2kfra8p0\\LocalCache\\local-packages\\Python311\\site-packages\\gensim\\models\\keyedvectors.py:849: RuntimeWarning: invalid value encountered in divide\n",
      "  dists = dot(self.vectors[clip_start:clip_end], mean) / self.norms[clip_start:clip_end]\n"
     ]
    },
    {
     "data": {
      "text/plain": [
       "[('웬수야', 0.6226855516433716),\n",
       " ('외쳐요', 0.5236533284187317),\n",
       " ('사랑하고', 0.5222238302230835),\n",
       " ('미안하다', 0.5081436634063721),\n",
       " ('사랑해줘', 0.5054067969322205)]"
      ]
     },
     "execution_count": 14,
     "metadata": {},
     "output_type": "execute_result"
    }
   ],
   "source": [
    "fasttext.most_similar(\"사랑한다\", topn = 5)"
   ]
  },
  {
   "cell_type": "markdown",
   "metadata": {},
   "source": [
    "엥........ 모델 상태 왜이래,, 유사 단어 찾기 포기..... ㅠㅠ"
   ]
  },
  {
   "cell_type": "code",
   "execution_count": 15,
   "metadata": {},
   "outputs": [
    {
     "name": "stdout",
     "output_type": "stream",
     "text": [
      "994\n"
     ]
    },
    {
     "data": {
      "text/html": [
       "<div>\n",
       "<style scoped>\n",
       "    .dataframe tbody tr th:only-of-type {\n",
       "        vertical-align: middle;\n",
       "    }\n",
       "\n",
       "    .dataframe tbody tr th {\n",
       "        vertical-align: top;\n",
       "    }\n",
       "\n",
       "    .dataframe thead th {\n",
       "        text-align: right;\n",
       "    }\n",
       "</style>\n",
       "<table border=\"1\" class=\"dataframe\">\n",
       "  <thead>\n",
       "    <tr style=\"text-align: right;\">\n",
       "      <th></th>\n",
       "      <th>name</th>\n",
       "      <th>tag</th>\n",
       "      <th>id</th>\n",
       "    </tr>\n",
       "  </thead>\n",
       "  <tbody>\n",
       "    <tr>\n",
       "      <th>0</th>\n",
       "      <td>bg_1</td>\n",
       "      <td>[여름, 더워, 시원, 청량, 플리, 케이팝, kpop]</td>\n",
       "      <td>1</td>\n",
       "    </tr>\n",
       "    <tr>\n",
       "      <th>1</th>\n",
       "      <td>bg_2</td>\n",
       "      <td>[팝송, 케이팝, 매장, 카페, 식당, 브금, 노래, 휴식, 신나는, 일]</td>\n",
       "      <td>2</td>\n",
       "    </tr>\n",
       "    <tr>\n",
       "      <th>2</th>\n",
       "      <td>bg_3</td>\n",
       "      <td>[아침, 나른, 팝송, 플리, 노래, 산책, 침대, 잔잔, 휴식]</td>\n",
       "      <td>3</td>\n",
       "    </tr>\n",
       "  </tbody>\n",
       "</table>\n",
       "</div>"
      ],
      "text/plain": [
       "   name                                        tag  id\n",
       "0  bg_1            [여름, 더워, 시원, 청량, 플리, 케이팝, kpop]   1\n",
       "1  bg_2  [팝송, 케이팝, 매장, 카페, 식당, 브금, 노래, 휴식, 신나는, 일]   2\n",
       "2  bg_3       [아침, 나른, 팝송, 플리, 노래, 산책, 침대, 잔잔, 휴식]   3"
      ]
     },
     "execution_count": 15,
     "metadata": {},
     "output_type": "execute_result"
    }
   ],
   "source": [
    "# 남은 태그가 하나라면 제거\n",
    "id_filtered = id_filtered[id_filtered['tag'].apply(lambda x: len(x) > 2)]\n",
    "print(len(id_filtered))\n",
    "# 1024 -> 994 로 줄어듦 \n",
    "id_filtered.head(3)"
   ]
  },
  {
   "cell_type": "code",
   "execution_count": 28,
   "metadata": {},
   "outputs": [],
   "source": [
    "# 기존 태그 임베딩, 벡터 평균 함수 \n",
    "def vector_and_average(input_lists):\n",
    "    avg_vectors = []\n",
    "    for list in input_lists:\n",
    "        vectors = [fasttext[word] for word in list]\n",
    "        avg = sum(vectors) / len(vectors)\n",
    "        avg_vectors.append(avg)\n",
    "    return avg_vectors \n",
    "\n",
    "# 새로운 태그 임베딩 함수 \n",
    "def new_tag_vector(input):\n",
    "    vectors = [fasttext[word] for word in input]\n",
    "    avg_vectors = sum(vectors) / len(vectors)\n",
    "    return avg_vectors\n",
    "\n",
    "# 태그 유사도 계산\n",
    "def cos_sim(A, B):\n",
    "    return dot(A, B) / (norm(A) * norm(B))\n",
    "\n",
    "# 가장 유사한 플리 출력 \n",
    "def similar_things(input, original, num): # original : 비교대상 친구들 벡터화하기 전, 단어 형태 \n",
    "    new_vector = new_tag_vector(input)\n",
    "    original_vectors = vector_and_average(original)\n",
    "    # 유사도 계산\n",
    "    similarities = []\n",
    "    for i in range(len(original)):\n",
    "        similarities.append(cos_sim(new_vector, original_vectors[i]))\n",
    "    # 유사 해시태그 \n",
    "    top_index = [idx for idx,_ in nlargest(num, enumerate(similarities), key = lambda x:x[1])]\n",
    "    top_tags = [original[idx] for idx in top_index]\n",
    "    return top_index, top_tags "
   ]
  },
  {
   "cell_type": "code",
   "execution_count": 17,
   "metadata": {},
   "outputs": [
    {
     "data": {
      "text/plain": [
       "([161, 657, 710, 159, 149],\n",
       " [['여름', '남자아이돌', '댄스', '드라이브', '신나는', '기분전환', '스트레스', '운동', '새벽', '바다'],\n",
       "  ['퇴폐적인', '감각적인', '술', '밤', '저녁', '새벽', '라운지', '칵테일', 'bar', '기분전환'],\n",
       "  ['가을', '감성', '플리', '기타', '인디', '발라드'],\n",
       "  ['여름', '걸그룹', '댄스', '드라이브', '신나는', '기분전환', '스트레스', '운동', '취향저격', '추억'],\n",
       "  ['여름', '스트레스', '걸그룹', '댄스', '기분전환', '여행', '신나는', '데이트', '자신감', '드라이브']])"
      ]
     },
     "execution_count": 17,
     "metadata": {},
     "output_type": "execute_result"
    }
   ],
   "source": [
    "# testing\n",
    "new_tag = ['신남', '댄스', '드라이브', '여름', '더워', '흥분']\n",
    "\n",
    "similar_things(new_tag, id_filtered['tag'])"
   ]
  },
  {
   "cell_type": "markdown",
   "metadata": {},
   "source": [
    "##### 트랙 2) 음악 취향 필터링, 가사 태그 기반 노래 찾기"
   ]
  },
  {
   "cell_type": "markdown",
   "metadata": {},
   "source": [
    "결과물 - filtered_songs_nona"
   ]
  },
  {
   "cell_type": "code",
   "execution_count": 86,
   "metadata": {},
   "outputs": [],
   "source": [
    "# 키워드, 감정 없는 행 제거 (NaN 제거)\n",
    "songs_tag_nona = songs_tag[~songs_tag['키워드'].isna()]"
   ]
  },
  {
   "cell_type": "code",
   "execution_count": 87,
   "metadata": {},
   "outputs": [],
   "source": [
    "# 모델에 없는 단어 제외\n",
    "keywords = songs_tag_nona.iloc[:,6].tolist()\n",
    "feelings = songs_tag_nona.iloc[:,7].tolist()\n",
    "\n",
    "filtered_keywords = delete_missing_tags(keywords)\n",
    "filtered_feelings = delete_missing_tags(feelings)"
   ]
  },
  {
   "cell_type": "code",
   "execution_count": 88,
   "metadata": {},
   "outputs": [
    {
     "name": "stdout",
     "output_type": "stream",
     "text": [
      "315\n",
      "39\n"
     ]
    }
   ],
   "source": [
    "# 전부 다 없어진 애들이 존재하나? \n",
    "n = 0\n",
    "for tag in filtered_keywords:\n",
    "    if len(tag) == 0:\n",
    "        n += 1\n",
    "print(n)\n",
    "\n",
    "n = 0\n",
    "for tag in filtered_feelings:\n",
    "    if len(tag) == 0:\n",
    "        n += 1\n",
    "print(n)     "
   ]
  },
  {
   "cell_type": "markdown",
   "metadata": {},
   "source": [
    "어어.... 싹 지워져버린 게 좀 있다만..... 어쩔 수 없지 뭐 일단 진행해야지..."
   ]
  },
  {
   "cell_type": "code",
   "execution_count": 89,
   "metadata": {},
   "outputs": [],
   "source": [
    "filtered_songs = songs_tag_nona.copy()\n",
    "filtered_songs['키워드'] = filtered_keywords\n",
    "filtered_songs['감정'] = filtered_feelings\n",
    "\n",
    "# 키워드, 감정 합쳐서 tags 정의\n",
    "filtered_songs['tags'] = filtered_songs['키워드'] + filtered_songs['감정']"
   ]
  },
  {
   "cell_type": "code",
   "execution_count": 90,
   "metadata": {},
   "outputs": [
    {
     "name": "stdout",
     "output_type": "stream",
     "text": [
      "24083\n"
     ]
    },
    {
     "data": {
      "text/html": [
       "<div>\n",
       "<style scoped>\n",
       "    .dataframe tbody tr th:only-of-type {\n",
       "        vertical-align: middle;\n",
       "    }\n",
       "\n",
       "    .dataframe tbody tr th {\n",
       "        vertical-align: top;\n",
       "    }\n",
       "\n",
       "    .dataframe thead th {\n",
       "        text-align: right;\n",
       "    }\n",
       "</style>\n",
       "<table border=\"1\" class=\"dataframe\">\n",
       "  <thead>\n",
       "    <tr style=\"text-align: right;\">\n",
       "      <th></th>\n",
       "      <th>제목</th>\n",
       "      <th>가수</th>\n",
       "      <th>가사</th>\n",
       "      <th>발매년도</th>\n",
       "      <th>장르</th>\n",
       "      <th>좋아요 수</th>\n",
       "      <th>키워드</th>\n",
       "      <th>감정</th>\n",
       "      <th>tags</th>\n",
       "    </tr>\n",
       "  </thead>\n",
       "  <tbody>\n",
       "    <tr>\n",
       "      <th>0</th>\n",
       "      <td>I Don't Think That I Like Her</td>\n",
       "      <td>Charlie Puth</td>\n",
       "      <td>Get her name and get her number Find out all o...</td>\n",
       "      <td>2022</td>\n",
       "      <td>POP</td>\n",
       "      <td>214990</td>\n",
       "      <td>[그녀, 마음, 별]</td>\n",
       "      <td>[슬픔, 후회, 실망]</td>\n",
       "      <td>[그녀, 마음, 별, 슬픔, 후회, 실망]</td>\n",
       "    </tr>\n",
       "    <tr>\n",
       "      <th>1</th>\n",
       "      <td>Dangerously</td>\n",
       "      <td>Charlie Puth</td>\n",
       "      <td>This is gonna hurt but I blame myself first ca...</td>\n",
       "      <td>2016</td>\n",
       "      <td>POP</td>\n",
       "      <td>217897</td>\n",
       "      <td>[위험, 사랑, 진실]</td>\n",
       "      <td>[슬픔, 후회, 집착]</td>\n",
       "      <td>[위험, 사랑, 진실, 슬픔, 후회, 집착]</td>\n",
       "    </tr>\n",
       "    <tr>\n",
       "      <th>2</th>\n",
       "      <td>STAY</td>\n",
       "      <td>The Kid LAROI, Justin Bieber</td>\n",
       "      <td>I do the same thing I told you that I never wo...</td>\n",
       "      <td>2021</td>\n",
       "      <td>POP</td>\n",
       "      <td>293599</td>\n",
       "      <td>[당신, 변화, 머무름]</td>\n",
       "      <td>[그리움, 후회, 불안]</td>\n",
       "      <td>[당신, 변화, 머무름, 그리움, 후회, 불안]</td>\n",
       "    </tr>\n",
       "  </tbody>\n",
       "</table>\n",
       "</div>"
      ],
      "text/plain": [
       "                              제목                            가수   \n",
       "0  I Don't Think That I Like Her                  Charlie Puth  \\\n",
       "1                    Dangerously                  Charlie Puth   \n",
       "2                           STAY  The Kid LAROI, Justin Bieber   \n",
       "\n",
       "                                                  가사  발매년도   장르   좋아요 수   \n",
       "0  Get her name and get her number Find out all o...  2022  POP  214990  \\\n",
       "1  This is gonna hurt but I blame myself first ca...  2016  POP  217897   \n",
       "2  I do the same thing I told you that I never wo...  2021  POP  293599   \n",
       "\n",
       "             키워드             감정                        tags  \n",
       "0    [그녀, 마음, 별]   [슬픔, 후회, 실망]     [그녀, 마음, 별, 슬픔, 후회, 실망]  \n",
       "1   [위험, 사랑, 진실]   [슬픔, 후회, 집착]    [위험, 사랑, 진실, 슬픔, 후회, 집착]  \n",
       "2  [당신, 변화, 머무름]  [그리움, 후회, 불안]  [당신, 변화, 머무름, 그리움, 후회, 불안]  "
      ]
     },
     "execution_count": 90,
     "metadata": {},
     "output_type": "execute_result"
    }
   ],
   "source": [
    "# 싹 지워져버린 친구들 제외\n",
    "filtered_songs_nona = filtered_songs[filtered_songs.iloc[:,8].apply(lambda x: len(x) != 0)]\n",
    "print(len(filtered_songs_nona))\n",
    "filtered_songs_nona.head(3)"
   ]
  }
 ],
 "metadata": {
  "kernelspec": {
   "display_name": "Python 3",
   "language": "python",
   "name": "python3"
  },
  "language_info": {
   "codemirror_mode": {
    "name": "ipython",
    "version": 3
   },
   "file_extension": ".py",
   "mimetype": "text/x-python",
   "name": "python",
   "nbconvert_exporter": "python",
   "pygments_lexer": "ipython3",
   "version": "3.11.9"
  }
 },
 "nbformat": 4,
 "nbformat_minor": 2
}
